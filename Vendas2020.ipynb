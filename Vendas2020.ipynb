{
 "cells": [
  {
   "cell_type": "markdown",
   "metadata": {},
   "source": [
    "## Projeto: Analisando as vendas do ano de 2020 de uma empresa"
   ]
  },
  {
   "cell_type": "markdown",
   "metadata": {},
   "source": [
    "#### Quais perguntas pretendo responder nesse dataset"
   ]
  },
  {
   "cell_type": "markdown",
   "metadata": {},
   "source": [
    "Nesse projeto de análise de vendas do ano de 2020 de uma empresa de patches, busco responder algumas perguntas críticas no que diz respeito à receitas totais mensais, receitas por região, os melhores dias de vendas, qual a maior frequência de unidades por pedido, e qual a melhor combinação de patches de estoque para venda antecipada no e-commerce."
   ]
  },
  {
   "cell_type": "markdown",
   "metadata": {},
   "source": [
    "#### Aqui os pacotes para análise, limpeza e transformação dos dados"
   ]
  },
  {
   "cell_type": "code",
   "execution_count": 1,
   "metadata": {},
   "outputs": [],
   "source": [
    "# importando os pacotes necessários para maniluparmos e analisarmos as vendas\n",
    "import pandas as pd\n",
    "import numpy as np\n",
    "import matplotlib as plt"
   ]
  },
  {
   "cell_type": "markdown",
   "metadata": {},
   "source": [
    "### Transformação e limpeza dos dados"
   ]
  },
  {
   "cell_type": "markdown",
   "metadata": {},
   "source": [
    "Nessa seção irei entender os dados, o que significa cada coluna e seus registros. Para depois, buscar valores nulos, valores ducplicados, valores extremos utilizando os pacotes pandas para limpeza e transformação, numpy e matplotlib para visualização dos dados."
   ]
  },
  {
   "cell_type": "code",
   "execution_count": 2,
   "metadata": {},
   "outputs": [],
   "source": [
    "# lendo o dataset com o read_excel, função do pandas\n",
    "df = pd.read_excel('vendas2020.xlsx')"
   ]
  },
  {
   "cell_type": "code",
   "execution_count": 3,
   "metadata": {},
   "outputs": [
    {
     "data": {
      "text/plain": [
       "(7109, 36)"
      ]
     },
     "execution_count": 3,
     "metadata": {},
     "output_type": "execute_result"
    }
   ],
   "source": [
    "# quantidade de linhas e colunas\n",
    "df.shape"
   ]
  },
  {
   "cell_type": "code",
   "execution_count": 4,
   "metadata": {},
   "outputs": [
    {
     "data": {
      "text/html": [
       "<div>\n",
       "<style scoped>\n",
       "    .dataframe tbody tr th:only-of-type {\n",
       "        vertical-align: middle;\n",
       "    }\n",
       "\n",
       "    .dataframe tbody tr th {\n",
       "        vertical-align: top;\n",
       "    }\n",
       "\n",
       "    .dataframe thead th {\n",
       "        text-align: right;\n",
       "    }\n",
       "</style>\n",
       "<table border=\"1\" class=\"dataframe\">\n",
       "  <thead>\n",
       "    <tr style=\"text-align: right;\">\n",
       "      <th></th>\n",
       "      <th>ID</th>\n",
       "      <th>N° do Pedido</th>\n",
       "      <th>N° do Pedido na Loja Virtual</th>\n",
       "      <th>Data</th>\n",
       "      <th>ID contato</th>\n",
       "      <th>Nome do contato</th>\n",
       "      <th>Cpf/Cnpj</th>\n",
       "      <th>Endereco</th>\n",
       "      <th>Bairro</th>\n",
       "      <th>Município</th>\n",
       "      <th>...</th>\n",
       "      <th>Código do produto</th>\n",
       "      <th>Frete proporcional</th>\n",
       "      <th>Desconto proporcional</th>\n",
       "      <th>Vendedor</th>\n",
       "      <th>Nº da NFe</th>\n",
       "      <th>Natureza da NFe</th>\n",
       "      <th>Situação da NFe</th>\n",
       "      <th>Última ocorrência</th>\n",
       "      <th>Outras despesas</th>\n",
       "      <th>Outras despesas proporcional</th>\n",
       "    </tr>\n",
       "  </thead>\n",
       "  <tbody>\n",
       "    <tr>\n",
       "      <th>0</th>\n",
       "      <td>7257920757</td>\n",
       "      <td>410</td>\n",
       "      <td>4319.0</td>\n",
       "      <td>2020-01-01</td>\n",
       "      <td>6893549261</td>\n",
       "      <td>Matheus Oliveira Lima</td>\n",
       "      <td>139.408.067-06</td>\n",
       "      <td>Rua Luís Guimarães, 56, 202</td>\n",
       "      <td>Vila Isabel</td>\n",
       "      <td>Rio de Janeiro</td>\n",
       "      <td>...</td>\n",
       "      <td>EP1524</td>\n",
       "      <td>8.0</td>\n",
       "      <td>0.0</td>\n",
       "      <td>E-commerce</td>\n",
       "      <td>314.0</td>\n",
       "      <td>Venda de mercadorias</td>\n",
       "      <td>Emitida</td>\n",
       "      <td>2020-01-07 16:33:00</td>\n",
       "      <td>0</td>\n",
       "      <td>0</td>\n",
       "    </tr>\n",
       "    <tr>\n",
       "      <th>1</th>\n",
       "      <td>7257920766</td>\n",
       "      <td>411</td>\n",
       "      <td>4321.0</td>\n",
       "      <td>2020-01-01</td>\n",
       "      <td>7257920762</td>\n",
       "      <td>Lucas Jarina Araujo</td>\n",
       "      <td>424.879.858-10</td>\n",
       "      <td>Rua Bezerra Paes, 1519, Casa</td>\n",
       "      <td>Jardim Belém</td>\n",
       "      <td>Descalvado</td>\n",
       "      <td>...</td>\n",
       "      <td>EP739</td>\n",
       "      <td>8.0</td>\n",
       "      <td>0.0</td>\n",
       "      <td>E-commerce</td>\n",
       "      <td>315.0</td>\n",
       "      <td>Venda de mercadorias</td>\n",
       "      <td>Emitida</td>\n",
       "      <td>2020-01-07 16:33:00</td>\n",
       "      <td>0</td>\n",
       "      <td>0</td>\n",
       "    </tr>\n",
       "    <tr>\n",
       "      <th>2</th>\n",
       "      <td>7257920788</td>\n",
       "      <td>412</td>\n",
       "      <td>4322.0</td>\n",
       "      <td>2020-01-01</td>\n",
       "      <td>7257920778</td>\n",
       "      <td>Luciano Tavares</td>\n",
       "      <td>382.420.019-87</td>\n",
       "      <td>Rua Bagé, 188, Ap 304</td>\n",
       "      <td>Anita Garibaldi</td>\n",
       "      <td>Joinville</td>\n",
       "      <td>...</td>\n",
       "      <td>EP192</td>\n",
       "      <td>8.0</td>\n",
       "      <td>0.0</td>\n",
       "      <td>E-commerce</td>\n",
       "      <td>316.0</td>\n",
       "      <td>Venda de mercadorias</td>\n",
       "      <td>Emitida</td>\n",
       "      <td>2020-01-07 16:33:00</td>\n",
       "      <td>0</td>\n",
       "      <td>0</td>\n",
       "    </tr>\n",
       "    <tr>\n",
       "      <th>3</th>\n",
       "      <td>7257920806</td>\n",
       "      <td>413</td>\n",
       "      <td>4323.0</td>\n",
       "      <td>2020-01-02</td>\n",
       "      <td>7257920796</td>\n",
       "      <td>Lucas Skrock</td>\n",
       "      <td>094.709.099-17</td>\n",
       "      <td>Rua Alberto Otto, 503, Casa</td>\n",
       "      <td>Santa Cândida</td>\n",
       "      <td>Curitiba</td>\n",
       "      <td>...</td>\n",
       "      <td>EP887</td>\n",
       "      <td>2.0</td>\n",
       "      <td>0.0</td>\n",
       "      <td>E-commerce</td>\n",
       "      <td>317.0</td>\n",
       "      <td>Venda de mercadorias</td>\n",
       "      <td>Emitida</td>\n",
       "      <td>2020-01-07 16:33:00</td>\n",
       "      <td>0</td>\n",
       "      <td>0</td>\n",
       "    </tr>\n",
       "    <tr>\n",
       "      <th>4</th>\n",
       "      <td>7257920806</td>\n",
       "      <td>413</td>\n",
       "      <td>4323.0</td>\n",
       "      <td>2020-01-02</td>\n",
       "      <td>7257920796</td>\n",
       "      <td>Lucas Skrock</td>\n",
       "      <td>094.709.099-17</td>\n",
       "      <td>Rua Alberto Otto, 503, Casa</td>\n",
       "      <td>Santa Cândida</td>\n",
       "      <td>Curitiba</td>\n",
       "      <td>...</td>\n",
       "      <td>EP619</td>\n",
       "      <td>2.0</td>\n",
       "      <td>0.0</td>\n",
       "      <td>E-commerce</td>\n",
       "      <td>317.0</td>\n",
       "      <td>Venda de mercadorias</td>\n",
       "      <td>Emitida</td>\n",
       "      <td>2020-01-07 16:33:00</td>\n",
       "      <td>0</td>\n",
       "      <td>0</td>\n",
       "    </tr>\n",
       "  </tbody>\n",
       "</table>\n",
       "<p>5 rows × 36 columns</p>\n",
       "</div>"
      ],
      "text/plain": [
       "           ID  N° do Pedido  N° do Pedido na Loja Virtual       Data  \\\n",
       "0  7257920757           410                        4319.0 2020-01-01   \n",
       "1  7257920766           411                        4321.0 2020-01-01   \n",
       "2  7257920788           412                        4322.0 2020-01-01   \n",
       "3  7257920806           413                        4323.0 2020-01-02   \n",
       "4  7257920806           413                        4323.0 2020-01-02   \n",
       "\n",
       "   ID contato        Nome do contato        Cpf/Cnpj  \\\n",
       "0  6893549261  Matheus Oliveira Lima  139.408.067-06   \n",
       "1  7257920762    Lucas Jarina Araujo  424.879.858-10   \n",
       "2  7257920778        Luciano Tavares  382.420.019-87   \n",
       "3  7257920796           Lucas Skrock  094.709.099-17   \n",
       "4  7257920796           Lucas Skrock  094.709.099-17   \n",
       "\n",
       "                       Endereco           Bairro       Município  ...  \\\n",
       "0   Rua Luís Guimarães, 56, 202      Vila Isabel  Rio de Janeiro  ...   \n",
       "1  Rua Bezerra Paes, 1519, Casa    Jardim Belém       Descalvado  ...   \n",
       "2         Rua Bagé, 188, Ap 304  Anita Garibaldi       Joinville  ...   \n",
       "3   Rua Alberto Otto, 503, Casa    Santa Cândida        Curitiba  ...   \n",
       "4   Rua Alberto Otto, 503, Casa    Santa Cândida        Curitiba  ...   \n",
       "\n",
       "  Código do produto Frete proporcional Desconto proporcional    Vendedor  \\\n",
       "0            EP1524                8.0                   0.0  E-commerce   \n",
       "1             EP739                8.0                   0.0  E-commerce   \n",
       "2             EP192                8.0                   0.0  E-commerce   \n",
       "3             EP887                2.0                   0.0  E-commerce   \n",
       "4             EP619                2.0                   0.0  E-commerce   \n",
       "\n",
       "   Nº da NFe       Natureza da NFe Situação da NFe   Última ocorrência  \\\n",
       "0      314.0  Venda de mercadorias         Emitida 2020-01-07 16:33:00   \n",
       "1      315.0  Venda de mercadorias         Emitida 2020-01-07 16:33:00   \n",
       "2      316.0  Venda de mercadorias         Emitida 2020-01-07 16:33:00   \n",
       "3      317.0  Venda de mercadorias         Emitida 2020-01-07 16:33:00   \n",
       "4      317.0  Venda de mercadorias         Emitida 2020-01-07 16:33:00   \n",
       "\n",
       "   Outras despesas Outras despesas proporcional  \n",
       "0                0                            0  \n",
       "1                0                            0  \n",
       "2                0                            0  \n",
       "3                0                            0  \n",
       "4                0                            0  \n",
       "\n",
       "[5 rows x 36 columns]"
      ]
     },
     "execution_count": 4,
     "metadata": {},
     "output_type": "execute_result"
    }
   ],
   "source": [
    "# olhando as primeiras linhas do dataset\n",
    "df.head()"
   ]
  },
  {
   "cell_type": "markdown",
   "metadata": {},
   "source": [
    "> Olhando os registros do dataseet, tomo a decisão de excluir algumas colunas porque entendo que não há necessidade de incluí-las nas análises. Acredito que o número do pedido seja bastante relevante, pois conseguiria contar a quantidade pedidos do ano todo. A coluna 'Cpf/Cnpj' para analisar o impacto de clientes pessoa física e pessoa jurídica nas receitas totais. Colunas como 'id' e 'Natureza da NF' não há necessidade e não impactará nas análises."
   ]
  },
  {
   "cell_type": "code",
   "execution_count": 5,
   "metadata": {},
   "outputs": [
    {
     "data": {
      "text/html": [
       "<div>\n",
       "<style scoped>\n",
       "    .dataframe tbody tr th:only-of-type {\n",
       "        vertical-align: middle;\n",
       "    }\n",
       "\n",
       "    .dataframe tbody tr th {\n",
       "        vertical-align: top;\n",
       "    }\n",
       "\n",
       "    .dataframe thead th {\n",
       "        text-align: right;\n",
       "    }\n",
       "</style>\n",
       "<table border=\"1\" class=\"dataframe\">\n",
       "  <thead>\n",
       "    <tr style=\"text-align: right;\">\n",
       "      <th></th>\n",
       "      <th>N° do Pedido</th>\n",
       "      <th>Data</th>\n",
       "      <th>Nome do contato</th>\n",
       "      <th>Cpf/Cnpj</th>\n",
       "      <th>Estado</th>\n",
       "      <th>Município</th>\n",
       "      <th>Código do produto</th>\n",
       "      <th>Descrição</th>\n",
       "      <th>Quantidade</th>\n",
       "      <th>Preço Total</th>\n",
       "    </tr>\n",
       "  </thead>\n",
       "  <tbody>\n",
       "    <tr>\n",
       "      <th>0</th>\n",
       "      <td>410</td>\n",
       "      <td>2020-01-01</td>\n",
       "      <td>Matheus Oliveira Lima</td>\n",
       "      <td>139.408.067-06</td>\n",
       "      <td>RJ</td>\n",
       "      <td>Rio de Janeiro</td>\n",
       "      <td>EP1524</td>\n",
       "      <td>Patch Emborrachado Bandeira do Brasil</td>\n",
       "      <td>2</td>\n",
       "      <td>42.98</td>\n",
       "    </tr>\n",
       "    <tr>\n",
       "      <th>1</th>\n",
       "      <td>411</td>\n",
       "      <td>2020-01-01</td>\n",
       "      <td>Lucas Jarina Araujo</td>\n",
       "      <td>424.879.858-10</td>\n",
       "      <td>SP</td>\n",
       "      <td>Descalvado</td>\n",
       "      <td>EP739</td>\n",
       "      <td>Patch Bordado Soutache Personalizado Tipo Sang...</td>\n",
       "      <td>1</td>\n",
       "      <td>15.49</td>\n",
       "    </tr>\n",
       "  </tbody>\n",
       "</table>\n",
       "</div>"
      ],
      "text/plain": [
       "   N° do Pedido       Data        Nome do contato        Cpf/Cnpj Estado  \\\n",
       "0           410 2020-01-01  Matheus Oliveira Lima  139.408.067-06     RJ   \n",
       "1           411 2020-01-01    Lucas Jarina Araujo  424.879.858-10     SP   \n",
       "\n",
       "        Município Código do produto  \\\n",
       "0  Rio de Janeiro            EP1524   \n",
       "1      Descalvado             EP739   \n",
       "\n",
       "                                           Descrição  Quantidade  Preço Total  \n",
       "0              Patch Emborrachado Bandeira do Brasil           2        42.98  \n",
       "1  Patch Bordado Soutache Personalizado Tipo Sang...           1        15.49  "
      ]
     },
     "execution_count": 5,
     "metadata": {},
     "output_type": "execute_result"
    }
   ],
   "source": [
    "# diminuindo a quantidade de colunas no dataset\n",
    "vendas = df[['N° do Pedido', 'Data', 'Nome do contato', 'Cpf/Cnpj', 'Estado', 'Município', 'Código do produto', 'Descrição', 'Quantidade', 'Preço Total']]\n",
    "vendas.head(2)"
   ]
  },
  {
   "cell_type": "code",
   "execution_count": 6,
   "metadata": {},
   "outputs": [
    {
     "name": "stderr",
     "output_type": "stream",
     "text": [
      "C:\\Users\\jeffe\\Anaconda3\\lib\\site-packages\\ipykernel_launcher.py:2: SettingWithCopyWarning: \n",
      "A value is trying to be set on a copy of a slice from a DataFrame.\n",
      "Try using .loc[row_indexer,col_indexer] = value instead\n",
      "\n",
      "See the caveats in the documentation: https://pandas.pydata.org/pandas-docs/stable/user_guide/indexing.html#returning-a-view-versus-a-copy\n",
      "  \n"
     ]
    },
    {
     "data": {
      "text/html": [
       "<div>\n",
       "<style scoped>\n",
       "    .dataframe tbody tr th:only-of-type {\n",
       "        vertical-align: middle;\n",
       "    }\n",
       "\n",
       "    .dataframe tbody tr th {\n",
       "        vertical-align: top;\n",
       "    }\n",
       "\n",
       "    .dataframe thead th {\n",
       "        text-align: right;\n",
       "    }\n",
       "</style>\n",
       "<table border=\"1\" class=\"dataframe\">\n",
       "  <thead>\n",
       "    <tr style=\"text-align: right;\">\n",
       "      <th></th>\n",
       "      <th>N° do Pedido</th>\n",
       "      <th>Data</th>\n",
       "      <th>Nome do contato</th>\n",
       "      <th>Cpf/Cnpj</th>\n",
       "      <th>Estado</th>\n",
       "      <th>Município</th>\n",
       "      <th>Código do produto</th>\n",
       "      <th>Descrição</th>\n",
       "      <th>Quantidade</th>\n",
       "      <th>Preço Total</th>\n",
       "      <th>mes</th>\n",
       "    </tr>\n",
       "  </thead>\n",
       "  <tbody>\n",
       "    <tr>\n",
       "      <th>0</th>\n",
       "      <td>410</td>\n",
       "      <td>2020-01-01</td>\n",
       "      <td>Matheus Oliveira Lima</td>\n",
       "      <td>139.408.067-06</td>\n",
       "      <td>RJ</td>\n",
       "      <td>Rio de Janeiro</td>\n",
       "      <td>EP1524</td>\n",
       "      <td>Patch Emborrachado Bandeira do Brasil</td>\n",
       "      <td>2</td>\n",
       "      <td>42.98</td>\n",
       "      <td>1</td>\n",
       "    </tr>\n",
       "    <tr>\n",
       "      <th>1</th>\n",
       "      <td>411</td>\n",
       "      <td>2020-01-01</td>\n",
       "      <td>Lucas Jarina Araujo</td>\n",
       "      <td>424.879.858-10</td>\n",
       "      <td>SP</td>\n",
       "      <td>Descalvado</td>\n",
       "      <td>EP739</td>\n",
       "      <td>Patch Bordado Soutache Personalizado Tipo Sang...</td>\n",
       "      <td>1</td>\n",
       "      <td>15.49</td>\n",
       "      <td>1</td>\n",
       "    </tr>\n",
       "  </tbody>\n",
       "</table>\n",
       "</div>"
      ],
      "text/plain": [
       "   N° do Pedido       Data        Nome do contato        Cpf/Cnpj Estado  \\\n",
       "0           410 2020-01-01  Matheus Oliveira Lima  139.408.067-06     RJ   \n",
       "1           411 2020-01-01    Lucas Jarina Araujo  424.879.858-10     SP   \n",
       "\n",
       "        Município Código do produto  \\\n",
       "0  Rio de Janeiro            EP1524   \n",
       "1      Descalvado             EP739   \n",
       "\n",
       "                                           Descrição  Quantidade  Preço Total  \\\n",
       "0              Patch Emborrachado Bandeira do Brasil           2        42.98   \n",
       "1  Patch Bordado Soutache Personalizado Tipo Sang...           1        15.49   \n",
       "\n",
       "   mes  \n",
       "0    1  \n",
       "1    1  "
      ]
     },
     "execution_count": 6,
     "metadata": {},
     "output_type": "execute_result"
    }
   ],
   "source": [
    "#Incluindo a coluna mês\n",
    "vendas['mes'] = pd.DatetimeIndex(vendas['Data']).month\n",
    "vendas.head(2)"
   ]
  },
  {
   "cell_type": "code",
   "execution_count": 7,
   "metadata": {},
   "outputs": [
    {
     "name": "stderr",
     "output_type": "stream",
     "text": [
      "C:\\Users\\jeffe\\Anaconda3\\lib\\site-packages\\ipykernel_launcher.py:2: SettingWithCopyWarning: \n",
      "A value is trying to be set on a copy of a slice from a DataFrame.\n",
      "Try using .loc[row_indexer,col_indexer] = value instead\n",
      "\n",
      "See the caveats in the documentation: https://pandas.pydata.org/pandas-docs/stable/user_guide/indexing.html#returning-a-view-versus-a-copy\n",
      "  \n"
     ]
    },
    {
     "data": {
      "text/html": [
       "<div>\n",
       "<style scoped>\n",
       "    .dataframe tbody tr th:only-of-type {\n",
       "        vertical-align: middle;\n",
       "    }\n",
       "\n",
       "    .dataframe tbody tr th {\n",
       "        vertical-align: top;\n",
       "    }\n",
       "\n",
       "    .dataframe thead th {\n",
       "        text-align: right;\n",
       "    }\n",
       "</style>\n",
       "<table border=\"1\" class=\"dataframe\">\n",
       "  <thead>\n",
       "    <tr style=\"text-align: right;\">\n",
       "      <th></th>\n",
       "      <th>N° do Pedido</th>\n",
       "      <th>Data</th>\n",
       "      <th>Nome do contato</th>\n",
       "      <th>Cpf/Cnpj</th>\n",
       "      <th>Estado</th>\n",
       "      <th>Município</th>\n",
       "      <th>Código do produto</th>\n",
       "      <th>Descrição</th>\n",
       "      <th>Quantidade</th>\n",
       "      <th>Preço Total</th>\n",
       "      <th>mes</th>\n",
       "      <th>dia</th>\n",
       "    </tr>\n",
       "  </thead>\n",
       "  <tbody>\n",
       "    <tr>\n",
       "      <th>0</th>\n",
       "      <td>410</td>\n",
       "      <td>2020-01-01</td>\n",
       "      <td>Matheus Oliveira Lima</td>\n",
       "      <td>139.408.067-06</td>\n",
       "      <td>RJ</td>\n",
       "      <td>Rio de Janeiro</td>\n",
       "      <td>EP1524</td>\n",
       "      <td>Patch Emborrachado Bandeira do Brasil</td>\n",
       "      <td>2</td>\n",
       "      <td>42.98</td>\n",
       "      <td>1</td>\n",
       "      <td>1</td>\n",
       "    </tr>\n",
       "    <tr>\n",
       "      <th>1</th>\n",
       "      <td>411</td>\n",
       "      <td>2020-01-01</td>\n",
       "      <td>Lucas Jarina Araujo</td>\n",
       "      <td>424.879.858-10</td>\n",
       "      <td>SP</td>\n",
       "      <td>Descalvado</td>\n",
       "      <td>EP739</td>\n",
       "      <td>Patch Bordado Soutache Personalizado Tipo Sang...</td>\n",
       "      <td>1</td>\n",
       "      <td>15.49</td>\n",
       "      <td>1</td>\n",
       "      <td>1</td>\n",
       "    </tr>\n",
       "    <tr>\n",
       "      <th>2</th>\n",
       "      <td>412</td>\n",
       "      <td>2020-01-01</td>\n",
       "      <td>Luciano Tavares</td>\n",
       "      <td>382.420.019-87</td>\n",
       "      <td>SC</td>\n",
       "      <td>Joinville</td>\n",
       "      <td>EP192</td>\n",
       "      <td>Patch Bordado Brazilian Veteran | Veterano bra...</td>\n",
       "      <td>1</td>\n",
       "      <td>15.49</td>\n",
       "      <td>1</td>\n",
       "      <td>1</td>\n",
       "    </tr>\n",
       "    <tr>\n",
       "      <th>3</th>\n",
       "      <td>413</td>\n",
       "      <td>2020-01-02</td>\n",
       "      <td>Lucas Skrock</td>\n",
       "      <td>094.709.099-17</td>\n",
       "      <td>PR</td>\n",
       "      <td>Curitiba</td>\n",
       "      <td>EP887</td>\n",
       "      <td>Patch bordado MAD MAX - I Witness Me</td>\n",
       "      <td>1</td>\n",
       "      <td>13.49</td>\n",
       "      <td>1</td>\n",
       "      <td>2</td>\n",
       "    </tr>\n",
       "    <tr>\n",
       "      <th>4</th>\n",
       "      <td>413</td>\n",
       "      <td>2020-01-02</td>\n",
       "      <td>Lucas Skrock</td>\n",
       "      <td>094.709.099-17</td>\n",
       "      <td>PR</td>\n",
       "      <td>Curitiba</td>\n",
       "      <td>EP619</td>\n",
       "      <td>Patch Bordado Stars (Resident Evil)</td>\n",
       "      <td>1</td>\n",
       "      <td>13.49</td>\n",
       "      <td>1</td>\n",
       "      <td>2</td>\n",
       "    </tr>\n",
       "  </tbody>\n",
       "</table>\n",
       "</div>"
      ],
      "text/plain": [
       "   N° do Pedido       Data        Nome do contato        Cpf/Cnpj Estado  \\\n",
       "0           410 2020-01-01  Matheus Oliveira Lima  139.408.067-06     RJ   \n",
       "1           411 2020-01-01    Lucas Jarina Araujo  424.879.858-10     SP   \n",
       "2           412 2020-01-01        Luciano Tavares  382.420.019-87     SC   \n",
       "3           413 2020-01-02           Lucas Skrock  094.709.099-17     PR   \n",
       "4           413 2020-01-02           Lucas Skrock  094.709.099-17     PR   \n",
       "\n",
       "        Município Código do produto  \\\n",
       "0  Rio de Janeiro            EP1524   \n",
       "1      Descalvado             EP739   \n",
       "2       Joinville             EP192   \n",
       "3        Curitiba             EP887   \n",
       "4        Curitiba             EP619   \n",
       "\n",
       "                                           Descrição  Quantidade  Preço Total  \\\n",
       "0              Patch Emborrachado Bandeira do Brasil           2        42.98   \n",
       "1  Patch Bordado Soutache Personalizado Tipo Sang...           1        15.49   \n",
       "2  Patch Bordado Brazilian Veteran | Veterano bra...           1        15.49   \n",
       "3               Patch bordado MAD MAX - I Witness Me           1        13.49   \n",
       "4                Patch Bordado Stars (Resident Evil)           1        13.49   \n",
       "\n",
       "   mes  dia  \n",
       "0    1    1  \n",
       "1    1    1  \n",
       "2    1    1  \n",
       "3    1    2  \n",
       "4    1    2  "
      ]
     },
     "execution_count": 7,
     "metadata": {},
     "output_type": "execute_result"
    }
   ],
   "source": [
    "# incluindo uma coluna dia da semana\n",
    "vendas['dia'] = pd.DatetimeIndex(vendas['Data']).day\n",
    "vendas.head(5)"
   ]
  },
  {
   "cell_type": "code",
   "execution_count": 8,
   "metadata": {},
   "outputs": [
    {
     "data": {
      "text/html": [
       "<div>\n",
       "<style scoped>\n",
       "    .dataframe tbody tr th:only-of-type {\n",
       "        vertical-align: middle;\n",
       "    }\n",
       "\n",
       "    .dataframe tbody tr th {\n",
       "        vertical-align: top;\n",
       "    }\n",
       "\n",
       "    .dataframe thead th {\n",
       "        text-align: right;\n",
       "    }\n",
       "</style>\n",
       "<table border=\"1\" class=\"dataframe\">\n",
       "  <thead>\n",
       "    <tr style=\"text-align: right;\">\n",
       "      <th></th>\n",
       "      <th>N° do Pedido</th>\n",
       "      <th>Quantidade</th>\n",
       "      <th>Preço Total</th>\n",
       "      <th>mes</th>\n",
       "      <th>dia</th>\n",
       "    </tr>\n",
       "  </thead>\n",
       "  <tbody>\n",
       "    <tr>\n",
       "      <th>count</th>\n",
       "      <td>7109.000000</td>\n",
       "      <td>7109.000000</td>\n",
       "      <td>7109.000000</td>\n",
       "      <td>7109.000000</td>\n",
       "      <td>7109.000000</td>\n",
       "    </tr>\n",
       "    <tr>\n",
       "      <th>mean</th>\n",
       "      <td>1743.521311</td>\n",
       "      <td>7.369532</td>\n",
       "      <td>71.100995</td>\n",
       "      <td>7.019131</td>\n",
       "      <td>15.500352</td>\n",
       "    </tr>\n",
       "    <tr>\n",
       "      <th>std</th>\n",
       "      <td>802.927135</td>\n",
       "      <td>91.784297</td>\n",
       "      <td>619.513247</td>\n",
       "      <td>3.319199</td>\n",
       "      <td>9.047079</td>\n",
       "    </tr>\n",
       "    <tr>\n",
       "      <th>min</th>\n",
       "      <td>393.000000</td>\n",
       "      <td>1.000000</td>\n",
       "      <td>0.000000</td>\n",
       "      <td>1.000000</td>\n",
       "      <td>1.000000</td>\n",
       "    </tr>\n",
       "    <tr>\n",
       "      <th>25%</th>\n",
       "      <td>1037.000000</td>\n",
       "      <td>1.000000</td>\n",
       "      <td>9.990000</td>\n",
       "      <td>4.000000</td>\n",
       "      <td>8.000000</td>\n",
       "    </tr>\n",
       "    <tr>\n",
       "      <th>50%</th>\n",
       "      <td>1742.000000</td>\n",
       "      <td>1.000000</td>\n",
       "      <td>13.490000</td>\n",
       "      <td>7.000000</td>\n",
       "      <td>15.000000</td>\n",
       "    </tr>\n",
       "    <tr>\n",
       "      <th>75%</th>\n",
       "      <td>2423.000000</td>\n",
       "      <td>2.000000</td>\n",
       "      <td>24.000000</td>\n",
       "      <td>10.000000</td>\n",
       "      <td>24.000000</td>\n",
       "    </tr>\n",
       "    <tr>\n",
       "      <th>max</th>\n",
       "      <td>3148.000000</td>\n",
       "      <td>7000.000000</td>\n",
       "      <td>46900.000000</td>\n",
       "      <td>12.000000</td>\n",
       "      <td>31.000000</td>\n",
       "    </tr>\n",
       "  </tbody>\n",
       "</table>\n",
       "</div>"
      ],
      "text/plain": [
       "       N° do Pedido   Quantidade   Preço Total          mes          dia\n",
       "count   7109.000000  7109.000000   7109.000000  7109.000000  7109.000000\n",
       "mean    1743.521311     7.369532     71.100995     7.019131    15.500352\n",
       "std      802.927135    91.784297    619.513247     3.319199     9.047079\n",
       "min      393.000000     1.000000      0.000000     1.000000     1.000000\n",
       "25%     1037.000000     1.000000      9.990000     4.000000     8.000000\n",
       "50%     1742.000000     1.000000     13.490000     7.000000    15.000000\n",
       "75%     2423.000000     2.000000     24.000000    10.000000    24.000000\n",
       "max     3148.000000  7000.000000  46900.000000    12.000000    31.000000"
      ]
     },
     "execution_count": 8,
     "metadata": {},
     "output_type": "execute_result"
    }
   ],
   "source": [
    "# principais estatísticas das colunas numéricas\n",
    "vendas.describe()"
   ]
  },
  {
   "cell_type": "markdown",
   "metadata": {},
   "source": [
    "> Na tabela de resumo estatístico percebemos que a quantidade média de unidades é de 7 patches e 75% das quantidades estão em 2 unidades. É bastante relevante. O preço total também está com uma média bem baixa em relação ao malor máximo, desse modo há uma grande possibilidade de valores extremos aqui. A mediana de quantidade é de 1 unidade de patch, isso provavelmente diz respeito a estrutura de lançamentos dos pedidos de vendas. Pelo que percebi, um produto por linha. A variável 'preço_total' está com valor zero no valor mínimo creio ser algum erro nos lançamentos."
   ]
  },
  {
   "cell_type": "code",
   "execution_count": 9,
   "metadata": {},
   "outputs": [
    {
     "data": {
      "text/plain": [
       "N° do Pedido         48\n",
       "Data                 48\n",
       "Nome do contato      48\n",
       "Cpf/Cnpj             48\n",
       "Estado               48\n",
       "Município            48\n",
       "Código do produto    47\n",
       "Descrição            48\n",
       "Quantidade           48\n",
       "Preço Total          48\n",
       "mes                  48\n",
       "dia                  48\n",
       "dtype: int64"
      ]
     },
     "execution_count": 9,
     "metadata": {},
     "output_type": "execute_result"
    }
   ],
   "source": [
    "# a variável 'preço total' contém valor zero nos valores mínimos\n",
    "# verificando esses lançamentos\n",
    "vendas.loc[vendas['Preço Total'] == 0].count()"
   ]
  },
  {
   "cell_type": "code",
   "execution_count": 10,
   "metadata": {},
   "outputs": [
    {
     "data": {
      "text/html": [
       "<div>\n",
       "<style scoped>\n",
       "    .dataframe tbody tr th:only-of-type {\n",
       "        vertical-align: middle;\n",
       "    }\n",
       "\n",
       "    .dataframe tbody tr th {\n",
       "        vertical-align: top;\n",
       "    }\n",
       "\n",
       "    .dataframe thead th {\n",
       "        text-align: right;\n",
       "    }\n",
       "</style>\n",
       "<table border=\"1\" class=\"dataframe\">\n",
       "  <thead>\n",
       "    <tr style=\"text-align: right;\">\n",
       "      <th></th>\n",
       "      <th>N° do Pedido</th>\n",
       "      <th>Quantidade</th>\n",
       "      <th>Preço Total</th>\n",
       "      <th>mes</th>\n",
       "      <th>dia</th>\n",
       "    </tr>\n",
       "  </thead>\n",
       "  <tbody>\n",
       "    <tr>\n",
       "      <th>count</th>\n",
       "      <td>7061.000000</td>\n",
       "      <td>7061.000000</td>\n",
       "      <td>7061.000000</td>\n",
       "      <td>7061.000000</td>\n",
       "      <td>7061.000000</td>\n",
       "    </tr>\n",
       "    <tr>\n",
       "      <th>mean</th>\n",
       "      <td>1738.310721</td>\n",
       "      <td>7.407591</td>\n",
       "      <td>71.584332</td>\n",
       "      <td>6.998867</td>\n",
       "      <td>15.479111</td>\n",
       "    </tr>\n",
       "    <tr>\n",
       "      <th>std</th>\n",
       "      <td>802.759592</td>\n",
       "      <td>92.094514</td>\n",
       "      <td>621.587839</td>\n",
       "      <td>3.320167</td>\n",
       "      <td>9.049644</td>\n",
       "    </tr>\n",
       "    <tr>\n",
       "      <th>min</th>\n",
       "      <td>393.000000</td>\n",
       "      <td>1.000000</td>\n",
       "      <td>5.550000</td>\n",
       "      <td>1.000000</td>\n",
       "      <td>1.000000</td>\n",
       "    </tr>\n",
       "    <tr>\n",
       "      <th>25%</th>\n",
       "      <td>1034.000000</td>\n",
       "      <td>1.000000</td>\n",
       "      <td>9.990000</td>\n",
       "      <td>4.000000</td>\n",
       "      <td>8.000000</td>\n",
       "    </tr>\n",
       "    <tr>\n",
       "      <th>50%</th>\n",
       "      <td>1739.000000</td>\n",
       "      <td>1.000000</td>\n",
       "      <td>13.490000</td>\n",
       "      <td>7.000000</td>\n",
       "      <td>15.000000</td>\n",
       "    </tr>\n",
       "    <tr>\n",
       "      <th>75%</th>\n",
       "      <td>2421.000000</td>\n",
       "      <td>2.000000</td>\n",
       "      <td>24.270000</td>\n",
       "      <td>10.000000</td>\n",
       "      <td>24.000000</td>\n",
       "    </tr>\n",
       "    <tr>\n",
       "      <th>max</th>\n",
       "      <td>3148.000000</td>\n",
       "      <td>7000.000000</td>\n",
       "      <td>46900.000000</td>\n",
       "      <td>12.000000</td>\n",
       "      <td>31.000000</td>\n",
       "    </tr>\n",
       "  </tbody>\n",
       "</table>\n",
       "</div>"
      ],
      "text/plain": [
       "       N° do Pedido   Quantidade   Preço Total          mes          dia\n",
       "count   7061.000000  7061.000000   7061.000000  7061.000000  7061.000000\n",
       "mean    1738.310721     7.407591     71.584332     6.998867    15.479111\n",
       "std      802.759592    92.094514    621.587839     3.320167     9.049644\n",
       "min      393.000000     1.000000      5.550000     1.000000     1.000000\n",
       "25%     1034.000000     1.000000      9.990000     4.000000     8.000000\n",
       "50%     1739.000000     1.000000     13.490000     7.000000    15.000000\n",
       "75%     2421.000000     2.000000     24.270000    10.000000    24.000000\n",
       "max     3148.000000  7000.000000  46900.000000    12.000000    31.000000"
      ]
     },
     "execution_count": 10,
     "metadata": {},
     "output_type": "execute_result"
    }
   ],
   "source": [
    "# resolvi criar um novo dataset filtrando os dados de preço total maiores que 0.\n",
    "vendas = vendas.loc[vendas['Preço Total'] > 0]\n",
    "vendas.describe()"
   ]
  },
  {
   "cell_type": "code",
   "execution_count": 11,
   "metadata": {},
   "outputs": [
    {
     "data": {
      "text/html": [
       "<div>\n",
       "<style scoped>\n",
       "    .dataframe tbody tr th:only-of-type {\n",
       "        vertical-align: middle;\n",
       "    }\n",
       "\n",
       "    .dataframe tbody tr th {\n",
       "        vertical-align: top;\n",
       "    }\n",
       "\n",
       "    .dataframe thead th {\n",
       "        text-align: right;\n",
       "    }\n",
       "</style>\n",
       "<table border=\"1\" class=\"dataframe\">\n",
       "  <thead>\n",
       "    <tr style=\"text-align: right;\">\n",
       "      <th></th>\n",
       "      <th>N° do Pedido</th>\n",
       "      <th>Data</th>\n",
       "      <th>Nome do contato</th>\n",
       "      <th>Cpf/Cnpj</th>\n",
       "      <th>Estado</th>\n",
       "      <th>Município</th>\n",
       "      <th>Código do produto</th>\n",
       "      <th>Descrição</th>\n",
       "      <th>Quantidade</th>\n",
       "      <th>Preço Total</th>\n",
       "      <th>mes</th>\n",
       "      <th>dia</th>\n",
       "    </tr>\n",
       "  </thead>\n",
       "  <tbody>\n",
       "    <tr>\n",
       "      <th>0</th>\n",
       "      <td>410</td>\n",
       "      <td>2020-01-01</td>\n",
       "      <td>Matheus Oliveira Lima</td>\n",
       "      <td>139.408.067-06</td>\n",
       "      <td>RJ</td>\n",
       "      <td>Rio de Janeiro</td>\n",
       "      <td>EP1524</td>\n",
       "      <td>Patch Emborrachado Bandeira do Brasil</td>\n",
       "      <td>2</td>\n",
       "      <td>42.98</td>\n",
       "      <td>1</td>\n",
       "      <td>1</td>\n",
       "    </tr>\n",
       "    <tr>\n",
       "      <th>1</th>\n",
       "      <td>411</td>\n",
       "      <td>2020-01-01</td>\n",
       "      <td>Lucas Jarina Araujo</td>\n",
       "      <td>424.879.858-10</td>\n",
       "      <td>SP</td>\n",
       "      <td>Descalvado</td>\n",
       "      <td>EP739</td>\n",
       "      <td>Patch Bordado Soutache Personalizado Tipo Sang...</td>\n",
       "      <td>1</td>\n",
       "      <td>15.49</td>\n",
       "      <td>1</td>\n",
       "      <td>1</td>\n",
       "    </tr>\n",
       "    <tr>\n",
       "      <th>2</th>\n",
       "      <td>412</td>\n",
       "      <td>2020-01-01</td>\n",
       "      <td>Luciano Tavares</td>\n",
       "      <td>382.420.019-87</td>\n",
       "      <td>SC</td>\n",
       "      <td>Joinville</td>\n",
       "      <td>EP192</td>\n",
       "      <td>Patch Bordado Brazilian Veteran | Veterano bra...</td>\n",
       "      <td>1</td>\n",
       "      <td>15.49</td>\n",
       "      <td>1</td>\n",
       "      <td>1</td>\n",
       "    </tr>\n",
       "    <tr>\n",
       "      <th>3</th>\n",
       "      <td>413</td>\n",
       "      <td>2020-01-02</td>\n",
       "      <td>Lucas Skrock</td>\n",
       "      <td>094.709.099-17</td>\n",
       "      <td>PR</td>\n",
       "      <td>Curitiba</td>\n",
       "      <td>EP887</td>\n",
       "      <td>Patch bordado MAD MAX - I Witness Me</td>\n",
       "      <td>1</td>\n",
       "      <td>13.49</td>\n",
       "      <td>1</td>\n",
       "      <td>2</td>\n",
       "    </tr>\n",
       "    <tr>\n",
       "      <th>4</th>\n",
       "      <td>413</td>\n",
       "      <td>2020-01-02</td>\n",
       "      <td>Lucas Skrock</td>\n",
       "      <td>094.709.099-17</td>\n",
       "      <td>PR</td>\n",
       "      <td>Curitiba</td>\n",
       "      <td>EP619</td>\n",
       "      <td>Patch Bordado Stars (Resident Evil)</td>\n",
       "      <td>1</td>\n",
       "      <td>13.49</td>\n",
       "      <td>1</td>\n",
       "      <td>2</td>\n",
       "    </tr>\n",
       "  </tbody>\n",
       "</table>\n",
       "</div>"
      ],
      "text/plain": [
       "   N° do Pedido       Data        Nome do contato        Cpf/Cnpj Estado  \\\n",
       "0           410 2020-01-01  Matheus Oliveira Lima  139.408.067-06     RJ   \n",
       "1           411 2020-01-01    Lucas Jarina Araujo  424.879.858-10     SP   \n",
       "2           412 2020-01-01        Luciano Tavares  382.420.019-87     SC   \n",
       "3           413 2020-01-02           Lucas Skrock  094.709.099-17     PR   \n",
       "4           413 2020-01-02           Lucas Skrock  094.709.099-17     PR   \n",
       "\n",
       "        Município Código do produto  \\\n",
       "0  Rio de Janeiro            EP1524   \n",
       "1      Descalvado             EP739   \n",
       "2       Joinville             EP192   \n",
       "3        Curitiba             EP887   \n",
       "4        Curitiba             EP619   \n",
       "\n",
       "                                           Descrição  Quantidade  Preço Total  \\\n",
       "0              Patch Emborrachado Bandeira do Brasil           2        42.98   \n",
       "1  Patch Bordado Soutache Personalizado Tipo Sang...           1        15.49   \n",
       "2  Patch Bordado Brazilian Veteran | Veterano bra...           1        15.49   \n",
       "3               Patch bordado MAD MAX - I Witness Me           1        13.49   \n",
       "4                Patch Bordado Stars (Resident Evil)           1        13.49   \n",
       "\n",
       "   mes  dia  \n",
       "0    1    1  \n",
       "1    1    1  \n",
       "2    1    1  \n",
       "3    1    2  \n",
       "4    1    2  "
      ]
     },
     "execution_count": 11,
     "metadata": {},
     "output_type": "execute_result"
    }
   ],
   "source": [
    "# excluindo as vendas do projeto invictus, pois influenciria nas vendas\n",
    "vendas = vendas.loc[vendas['Nome do contato'] != 'União Suprimentos Militares Ltda.']\n",
    "vendas.head()"
   ]
  },
  {
   "cell_type": "markdown",
   "metadata": {},
   "source": [
    "> Sabendo que a empresa teve uma venda significativa para o cliente chamado 'União Suprimentos Militares Ltda.', resolvi excluir todos os lançamentos pertinentes a esse cliente, para não distorcer os resultados. Um projeto grande que ocorreu no mês de agosto de 2020."
   ]
  },
  {
   "cell_type": "code",
   "execution_count": 12,
   "metadata": {},
   "outputs": [
    {
     "data": {
      "text/plain": [
       "505456.97"
      ]
     },
     "execution_count": 12,
     "metadata": {},
     "output_type": "execute_result"
    }
   ],
   "source": [
    "# soma das vendas com o dataset original\n",
    "df['Preço Total'].sum()"
   ]
  },
  {
   "cell_type": "code",
   "execution_count": 13,
   "metadata": {},
   "outputs": [
    {
     "data": {
      "text/plain": [
       "360200.97000000003"
      ]
     },
     "execution_count": 13,
     "metadata": {},
     "output_type": "execute_result"
    }
   ],
   "source": [
    "# aqui prova que a exclusão da venda 'União Suprimentos Militares Ltda.' aconteceu\n",
    "# bastante impactante\n",
    "vendas['Preço Total'].sum()"
   ]
  },
  {
   "cell_type": "code",
   "execution_count": 14,
   "metadata": {},
   "outputs": [
    {
     "data": {
      "text/plain": [
       "30625"
      ]
     },
     "execution_count": 14,
     "metadata": {},
     "output_type": "execute_result"
    }
   ],
   "source": [
    "# quantidade de patches vendidos\n",
    "vendas.Quantidade.sum()"
   ]
  },
  {
   "cell_type": "code",
   "execution_count": 15,
   "metadata": {},
   "outputs": [
    {
     "data": {
      "text/html": [
       "<div>\n",
       "<style scoped>\n",
       "    .dataframe tbody tr th:only-of-type {\n",
       "        vertical-align: middle;\n",
       "    }\n",
       "\n",
       "    .dataframe tbody tr th {\n",
       "        vertical-align: top;\n",
       "    }\n",
       "\n",
       "    .dataframe thead th {\n",
       "        text-align: right;\n",
       "    }\n",
       "</style>\n",
       "<table border=\"1\" class=\"dataframe\">\n",
       "  <thead>\n",
       "    <tr style=\"text-align: right;\">\n",
       "      <th></th>\n",
       "      <th>n°_do_pedido</th>\n",
       "      <th>data</th>\n",
       "      <th>nome_do_contato</th>\n",
       "      <th>cpf_cnpj</th>\n",
       "      <th>estado</th>\n",
       "      <th>município</th>\n",
       "      <th>código_do_produto</th>\n",
       "      <th>descrição</th>\n",
       "      <th>quantidade</th>\n",
       "      <th>preço_total</th>\n",
       "      <th>mes</th>\n",
       "      <th>dia</th>\n",
       "    </tr>\n",
       "  </thead>\n",
       "  <tbody>\n",
       "    <tr>\n",
       "      <th>0</th>\n",
       "      <td>410</td>\n",
       "      <td>2020-01-01</td>\n",
       "      <td>Matheus Oliveira Lima</td>\n",
       "      <td>139.408.067-06</td>\n",
       "      <td>RJ</td>\n",
       "      <td>Rio de Janeiro</td>\n",
       "      <td>EP1524</td>\n",
       "      <td>Patch Emborrachado Bandeira do Brasil</td>\n",
       "      <td>2</td>\n",
       "      <td>42.98</td>\n",
       "      <td>1</td>\n",
       "      <td>1</td>\n",
       "    </tr>\n",
       "    <tr>\n",
       "      <th>1</th>\n",
       "      <td>411</td>\n",
       "      <td>2020-01-01</td>\n",
       "      <td>Lucas Jarina Araujo</td>\n",
       "      <td>424.879.858-10</td>\n",
       "      <td>SP</td>\n",
       "      <td>Descalvado</td>\n",
       "      <td>EP739</td>\n",
       "      <td>Patch Bordado Soutache Personalizado Tipo Sang...</td>\n",
       "      <td>1</td>\n",
       "      <td>15.49</td>\n",
       "      <td>1</td>\n",
       "      <td>1</td>\n",
       "    </tr>\n",
       "    <tr>\n",
       "      <th>2</th>\n",
       "      <td>412</td>\n",
       "      <td>2020-01-01</td>\n",
       "      <td>Luciano Tavares</td>\n",
       "      <td>382.420.019-87</td>\n",
       "      <td>SC</td>\n",
       "      <td>Joinville</td>\n",
       "      <td>EP192</td>\n",
       "      <td>Patch Bordado Brazilian Veteran | Veterano bra...</td>\n",
       "      <td>1</td>\n",
       "      <td>15.49</td>\n",
       "      <td>1</td>\n",
       "      <td>1</td>\n",
       "    </tr>\n",
       "    <tr>\n",
       "      <th>3</th>\n",
       "      <td>413</td>\n",
       "      <td>2020-01-02</td>\n",
       "      <td>Lucas Skrock</td>\n",
       "      <td>094.709.099-17</td>\n",
       "      <td>PR</td>\n",
       "      <td>Curitiba</td>\n",
       "      <td>EP887</td>\n",
       "      <td>Patch bordado MAD MAX - I Witness Me</td>\n",
       "      <td>1</td>\n",
       "      <td>13.49</td>\n",
       "      <td>1</td>\n",
       "      <td>2</td>\n",
       "    </tr>\n",
       "    <tr>\n",
       "      <th>4</th>\n",
       "      <td>413</td>\n",
       "      <td>2020-01-02</td>\n",
       "      <td>Lucas Skrock</td>\n",
       "      <td>094.709.099-17</td>\n",
       "      <td>PR</td>\n",
       "      <td>Curitiba</td>\n",
       "      <td>EP619</td>\n",
       "      <td>Patch Bordado Stars (Resident Evil)</td>\n",
       "      <td>1</td>\n",
       "      <td>13.49</td>\n",
       "      <td>1</td>\n",
       "      <td>2</td>\n",
       "    </tr>\n",
       "  </tbody>\n",
       "</table>\n",
       "</div>"
      ],
      "text/plain": [
       "   n°_do_pedido       data        nome_do_contato        cpf_cnpj estado  \\\n",
       "0           410 2020-01-01  Matheus Oliveira Lima  139.408.067-06     RJ   \n",
       "1           411 2020-01-01    Lucas Jarina Araujo  424.879.858-10     SP   \n",
       "2           412 2020-01-01        Luciano Tavares  382.420.019-87     SC   \n",
       "3           413 2020-01-02           Lucas Skrock  094.709.099-17     PR   \n",
       "4           413 2020-01-02           Lucas Skrock  094.709.099-17     PR   \n",
       "\n",
       "        município código_do_produto  \\\n",
       "0  Rio de Janeiro            EP1524   \n",
       "1      Descalvado             EP739   \n",
       "2       Joinville             EP192   \n",
       "3        Curitiba             EP887   \n",
       "4        Curitiba             EP619   \n",
       "\n",
       "                                           descrição  quantidade  preço_total  \\\n",
       "0              Patch Emborrachado Bandeira do Brasil           2        42.98   \n",
       "1  Patch Bordado Soutache Personalizado Tipo Sang...           1        15.49   \n",
       "2  Patch Bordado Brazilian Veteran | Veterano bra...           1        15.49   \n",
       "3               Patch bordado MAD MAX - I Witness Me           1        13.49   \n",
       "4                Patch Bordado Stars (Resident Evil)           1        13.49   \n",
       "\n",
       "   mes  dia  \n",
       "0    1    1  \n",
       "1    1    1  \n",
       "2    1    1  \n",
       "3    1    2  \n",
       "4    1    2  "
      ]
     },
     "execution_count": 15,
     "metadata": {},
     "output_type": "execute_result"
    }
   ],
   "source": [
    "# pra facilitar as análises com os cabeçalhos, vou colocar em letras mnúsculas e incluir o underline\n",
    "# encontrei um tutorial em:\n",
    "# https://www.alura.com.br/artigos/manipulacao-de-strings-no-pandas-lower-replace-startswith-e-contains\n",
    "vendas.columns = vendas.columns.str.lower().str.replace(' ', '_')\n",
    "vendas.columns = vendas.columns.str.lower().str.replace('/', '_')\n",
    "vendas.head()"
   ]
  },
  {
   "cell_type": "code",
   "execution_count": 16,
   "metadata": {},
   "outputs": [
    {
     "name": "stdout",
     "output_type": "stream",
     "text": [
      "<class 'pandas.core.frame.DataFrame'>\n",
      "Int64Index: 6992 entries, 0 to 7108\n",
      "Data columns (total 12 columns):\n",
      " #   Column             Non-Null Count  Dtype         \n",
      "---  ------             --------------  -----         \n",
      " 0   n°_do_pedido       6992 non-null   int64         \n",
      " 1   data               6992 non-null   datetime64[ns]\n",
      " 2   nome_do_contato    6992 non-null   object        \n",
      " 3   cpf_cnpj           6992 non-null   object        \n",
      " 4   estado             6992 non-null   object        \n",
      " 5   município          6979 non-null   object        \n",
      " 6   código_do_produto  6948 non-null   object        \n",
      " 7   descrição          6992 non-null   object        \n",
      " 8   quantidade         6992 non-null   int64         \n",
      " 9   preço_total        6992 non-null   float64       \n",
      " 10  mes                6992 non-null   int64         \n",
      " 11  dia                6992 non-null   int64         \n",
      "dtypes: datetime64[ns](1), float64(1), int64(4), object(6)\n",
      "memory usage: 710.1+ KB\n"
     ]
    }
   ],
   "source": [
    "# verificando os tipos de dados e valores nulos\n",
    "vendas.info()"
   ]
  },
  {
   "cell_type": "code",
   "execution_count": 17,
   "metadata": {},
   "outputs": [
    {
     "data": {
      "text/plain": [
       "13"
      ]
     },
     "execution_count": 17,
     "metadata": {},
     "output_type": "execute_result"
    }
   ],
   "source": [
    "# averiguando mais a fundo os valores nulos na coluna município\n",
    "vendas.município.isnull().sum()"
   ]
  },
  {
   "cell_type": "code",
   "execution_count": 18,
   "metadata": {},
   "outputs": [
    {
     "data": {
      "text/plain": [
       "0"
      ]
     },
     "execution_count": 18,
     "metadata": {},
     "output_type": "execute_result"
    }
   ],
   "source": [
    "# tratando a coluna 'município' colocando a frase 'Não informado'\n",
    "vendas.update(vendas['município'].fillna('Não informado'))\n",
    "vendas.município.isnull().sum()"
   ]
  },
  {
   "cell_type": "code",
   "execution_count": 19,
   "metadata": {},
   "outputs": [
    {
     "data": {
      "text/plain": [
       "44"
      ]
     },
     "execution_count": 19,
     "metadata": {},
     "output_type": "execute_result"
    }
   ],
   "source": [
    "# averiguando mais a fundo os valores nulos na coluna 'código do produto'\n",
    "vendas.código_do_produto.isnull().sum()"
   ]
  },
  {
   "cell_type": "code",
   "execution_count": 20,
   "metadata": {},
   "outputs": [
    {
     "data": {
      "text/plain": [
       "0"
      ]
     },
     "execution_count": 20,
     "metadata": {},
     "output_type": "execute_result"
    }
   ],
   "source": [
    "# eu decido colocar o número 'EP0', pois mais a frente farei análises pela descrição\n",
    "vendas.update(vendas['código_do_produto'].fillna('EP0'))\n",
    "vendas.município.isnull().sum()"
   ]
  },
  {
   "cell_type": "code",
   "execution_count": 21,
   "metadata": {},
   "outputs": [
    {
     "data": {
      "text/plain": [
       "377"
      ]
     },
     "execution_count": 21,
     "metadata": {},
     "output_type": "execute_result"
    }
   ],
   "source": [
    "# averiguando dados duplicados, se houver\n",
    "sum(vendas.duplicated())"
   ]
  },
  {
   "cell_type": "code",
   "execution_count": 22,
   "metadata": {},
   "outputs": [
    {
     "data": {
      "text/html": [
       "<div>\n",
       "<style scoped>\n",
       "    .dataframe tbody tr th:only-of-type {\n",
       "        vertical-align: middle;\n",
       "    }\n",
       "\n",
       "    .dataframe tbody tr th {\n",
       "        vertical-align: top;\n",
       "    }\n",
       "\n",
       "    .dataframe thead th {\n",
       "        text-align: right;\n",
       "    }\n",
       "</style>\n",
       "<table border=\"1\" class=\"dataframe\">\n",
       "  <thead>\n",
       "    <tr style=\"text-align: right;\">\n",
       "      <th></th>\n",
       "      <th>n°_do_pedido</th>\n",
       "      <th>data</th>\n",
       "      <th>nome_do_contato</th>\n",
       "      <th>cpf_cnpj</th>\n",
       "      <th>estado</th>\n",
       "      <th>município</th>\n",
       "      <th>código_do_produto</th>\n",
       "      <th>descrição</th>\n",
       "      <th>quantidade</th>\n",
       "      <th>preço_total</th>\n",
       "      <th>mes</th>\n",
       "      <th>dia</th>\n",
       "    </tr>\n",
       "  </thead>\n",
       "  <tbody>\n",
       "    <tr>\n",
       "      <th>35</th>\n",
       "      <td>475</td>\n",
       "      <td>2020-01-07</td>\n",
       "      <td>Diego Sancho</td>\n",
       "      <td>368.835.728-05</td>\n",
       "      <td>SP</td>\n",
       "      <td>São Paulo</td>\n",
       "      <td>EP376</td>\n",
       "      <td>Patch Bordado Bandeira Do Brasil Tática</td>\n",
       "      <td>1</td>\n",
       "      <td>15.49</td>\n",
       "      <td>1</td>\n",
       "      <td>7</td>\n",
       "    </tr>\n",
       "    <tr>\n",
       "      <th>36</th>\n",
       "      <td>475</td>\n",
       "      <td>2020-01-07</td>\n",
       "      <td>Diego Sancho</td>\n",
       "      <td>368.835.728-05</td>\n",
       "      <td>SP</td>\n",
       "      <td>São Paulo</td>\n",
       "      <td>EP376</td>\n",
       "      <td>Patch Bordado Bandeira Do Brasil Tática</td>\n",
       "      <td>1</td>\n",
       "      <td>15.49</td>\n",
       "      <td>1</td>\n",
       "      <td>7</td>\n",
       "    </tr>\n",
       "    <tr>\n",
       "      <th>41</th>\n",
       "      <td>428</td>\n",
       "      <td>2020-01-08</td>\n",
       "      <td>Sandro Barbosa abad</td>\n",
       "      <td>706.553.670-04</td>\n",
       "      <td>RS</td>\n",
       "      <td>Porto Alegre</td>\n",
       "      <td>EP732</td>\n",
       "      <td>Patch Bordado Personalizado com Programação Gr...</td>\n",
       "      <td>1</td>\n",
       "      <td>30.00</td>\n",
       "      <td>1</td>\n",
       "      <td>8</td>\n",
       "    </tr>\n",
       "    <tr>\n",
       "      <th>51</th>\n",
       "      <td>433</td>\n",
       "      <td>2020-01-09</td>\n",
       "      <td>Igor da silva Goulart</td>\n",
       "      <td>840.362.220-15</td>\n",
       "      <td>RS</td>\n",
       "      <td>Porto Alegre</td>\n",
       "      <td>PB8</td>\n",
       "      <td>Patch Bordado Personalizado  - 8 cm</td>\n",
       "      <td>10</td>\n",
       "      <td>140.00</td>\n",
       "      <td>1</td>\n",
       "      <td>9</td>\n",
       "    </tr>\n",
       "    <tr>\n",
       "      <th>53</th>\n",
       "      <td>434</td>\n",
       "      <td>2020-01-09</td>\n",
       "      <td>Luis Antonio Vieira Freitas</td>\n",
       "      <td>267.015.020-91</td>\n",
       "      <td>RS</td>\n",
       "      <td>Nova Santa Rita</td>\n",
       "      <td>EP1038</td>\n",
       "      <td>Kit Basico Motociclista - Patches Personalizad...</td>\n",
       "      <td>1</td>\n",
       "      <td>95.99</td>\n",
       "      <td>1</td>\n",
       "      <td>9</td>\n",
       "    </tr>\n",
       "  </tbody>\n",
       "</table>\n",
       "</div>"
      ],
      "text/plain": [
       "    n°_do_pedido       data              nome_do_contato        cpf_cnpj  \\\n",
       "35           475 2020-01-07                 Diego Sancho  368.835.728-05   \n",
       "36           475 2020-01-07                 Diego Sancho  368.835.728-05   \n",
       "41           428 2020-01-08          Sandro Barbosa abad  706.553.670-04   \n",
       "51           433 2020-01-09        Igor da silva Goulart  840.362.220-15   \n",
       "53           434 2020-01-09  Luis Antonio Vieira Freitas  267.015.020-91   \n",
       "\n",
       "   estado        município código_do_produto  \\\n",
       "35     SP        São Paulo             EP376   \n",
       "36     SP        São Paulo             EP376   \n",
       "41     RS     Porto Alegre             EP732   \n",
       "51     RS     Porto Alegre               PB8   \n",
       "53     RS  Nova Santa Rita            EP1038   \n",
       "\n",
       "                                            descrição  quantidade  \\\n",
       "35            Patch Bordado Bandeira Do Brasil Tática           1   \n",
       "36            Patch Bordado Bandeira Do Brasil Tática           1   \n",
       "41  Patch Bordado Personalizado com Programação Gr...           1   \n",
       "51                Patch Bordado Personalizado  - 8 cm          10   \n",
       "53  Kit Basico Motociclista - Patches Personalizad...           1   \n",
       "\n",
       "    preço_total  mes  dia  \n",
       "35        15.49    1    7  \n",
       "36        15.49    1    7  \n",
       "41        30.00    1    8  \n",
       "51       140.00    1    9  \n",
       "53        95.99    1    9  "
      ]
     },
     "execution_count": 22,
     "metadata": {},
     "output_type": "execute_result"
    }
   ],
   "source": [
    "vendas.loc[vendas.duplicated()].head(5)"
   ]
  },
  {
   "cell_type": "code",
   "execution_count": 23,
   "metadata": {},
   "outputs": [
    {
     "data": {
      "text/html": [
       "<div>\n",
       "<style scoped>\n",
       "    .dataframe tbody tr th:only-of-type {\n",
       "        vertical-align: middle;\n",
       "    }\n",
       "\n",
       "    .dataframe tbody tr th {\n",
       "        vertical-align: top;\n",
       "    }\n",
       "\n",
       "    .dataframe thead th {\n",
       "        text-align: right;\n",
       "    }\n",
       "</style>\n",
       "<table border=\"1\" class=\"dataframe\">\n",
       "  <thead>\n",
       "    <tr style=\"text-align: right;\">\n",
       "      <th></th>\n",
       "      <th>n°_do_pedido</th>\n",
       "      <th>data</th>\n",
       "      <th>nome_do_contato</th>\n",
       "      <th>cpf_cnpj</th>\n",
       "      <th>estado</th>\n",
       "      <th>município</th>\n",
       "      <th>código_do_produto</th>\n",
       "      <th>descrição</th>\n",
       "      <th>quantidade</th>\n",
       "      <th>preço_total</th>\n",
       "      <th>mes</th>\n",
       "      <th>dia</th>\n",
       "    </tr>\n",
       "  </thead>\n",
       "  <tbody>\n",
       "    <tr>\n",
       "      <th>34</th>\n",
       "      <td>475</td>\n",
       "      <td>2020-01-07</td>\n",
       "      <td>Diego Sancho</td>\n",
       "      <td>368.835.728-05</td>\n",
       "      <td>SP</td>\n",
       "      <td>São Paulo</td>\n",
       "      <td>EP376</td>\n",
       "      <td>Patch Bordado Bandeira Do Brasil Tática</td>\n",
       "      <td>1</td>\n",
       "      <td>15.49</td>\n",
       "      <td>1</td>\n",
       "      <td>7</td>\n",
       "    </tr>\n",
       "    <tr>\n",
       "      <th>35</th>\n",
       "      <td>475</td>\n",
       "      <td>2020-01-07</td>\n",
       "      <td>Diego Sancho</td>\n",
       "      <td>368.835.728-05</td>\n",
       "      <td>SP</td>\n",
       "      <td>São Paulo</td>\n",
       "      <td>EP376</td>\n",
       "      <td>Patch Bordado Bandeira Do Brasil Tática</td>\n",
       "      <td>1</td>\n",
       "      <td>15.49</td>\n",
       "      <td>1</td>\n",
       "      <td>7</td>\n",
       "    </tr>\n",
       "    <tr>\n",
       "      <th>36</th>\n",
       "      <td>475</td>\n",
       "      <td>2020-01-07</td>\n",
       "      <td>Diego Sancho</td>\n",
       "      <td>368.835.728-05</td>\n",
       "      <td>SP</td>\n",
       "      <td>São Paulo</td>\n",
       "      <td>EP376</td>\n",
       "      <td>Patch Bordado Bandeira Do Brasil Tática</td>\n",
       "      <td>1</td>\n",
       "      <td>15.49</td>\n",
       "      <td>1</td>\n",
       "      <td>7</td>\n",
       "    </tr>\n",
       "  </tbody>\n",
       "</table>\n",
       "</div>"
      ],
      "text/plain": [
       "    n°_do_pedido       data nome_do_contato        cpf_cnpj estado  município  \\\n",
       "34           475 2020-01-07    Diego Sancho  368.835.728-05     SP  São Paulo   \n",
       "35           475 2020-01-07    Diego Sancho  368.835.728-05     SP  São Paulo   \n",
       "36           475 2020-01-07    Diego Sancho  368.835.728-05     SP  São Paulo   \n",
       "\n",
       "   código_do_produto                                descrição  quantidade  \\\n",
       "34             EP376  Patch Bordado Bandeira Do Brasil Tática           1   \n",
       "35             EP376  Patch Bordado Bandeira Do Brasil Tática           1   \n",
       "36             EP376  Patch Bordado Bandeira Do Brasil Tática           1   \n",
       "\n",
       "    preço_total  mes  dia  \n",
       "34        15.49    1    7  \n",
       "35        15.49    1    7  \n",
       "36        15.49    1    7  "
      ]
     },
     "execution_count": 23,
     "metadata": {},
     "output_type": "execute_result"
    }
   ],
   "source": [
    "vendas.loc[vendas['n°_do_pedido'] == 475]"
   ]
  },
  {
   "cell_type": "markdown",
   "metadata": {},
   "source": [
    "> Verficado a base de dados, percebo que não se trata de dados duplicados. Mas sim da estrututa na qual o usuário inseri os dados de vendas, linha por linha no caso. É importante ter acesso à base de dados para investigar melhor, para não excluir dados importantes por acidente. A venda do pedido '475' é um exemplo. Fui averiguar na base de dados e trata-se da forma como os produtos foram lançados, embora sejam o mesmo produto."
   ]
  },
  {
   "cell_type": "code",
   "execution_count": 24,
   "metadata": {},
   "outputs": [
    {
     "data": {
      "image/png": "[encoded data removed]",
      "text/plain": [
       "<Figure size 720x576 with 6 Axes>"
      ]
     },
     "metadata": {
      "needs_background": "light"
     },
     "output_type": "display_data"
    }
   ],
   "source": [
    "# verificando a distribuição dos dados\n",
    "vendas.hist(figsize=(10,8));"
   ]
  },
  {
   "cell_type": "code",
   "execution_count": 25,
   "metadata": {},
   "outputs": [
    {
     "data": {
      "image/png": "[encoded data removed]",
      "text/plain": [
       "<Figure size 432x288 with 1 Axes>"
      ]
     },
     "metadata": {
      "needs_background": "light"
     },
     "output_type": "display_data"
    }
   ],
   "source": [
    "vendas.preço_total.hist();\n",
    "\n",
    "import matplotlib.pyplot as plt\n",
    "\n",
    "plt.title('Preço total')\n",
    "plt.show()"
   ]
  },
  {
   "cell_type": "markdown",
   "metadata": {},
   "source": [
    "> Verificando as distribuições dos dados quantitativos, noto que o preço total está concentrado até os R$ 1.000,00. Portanto resolvi plotar somente ele em uma outra escala, e bem menor esse número. As quantidades estão bem abaixo dos 100 unidades."
   ]
  },
  {
   "cell_type": "markdown",
   "metadata": {},
   "source": [
    "## Qual foi o melhor mês em vendas? Qual foi o total de vendas? Qual foi a tendência das vendas ?"
   ]
  },
  {
   "cell_type": "code",
   "execution_count": 22,
   "metadata": {},
   "outputs": [
    {
     "data": {
      "text/html": [
       "<div>\n",
       "<style scoped>\n",
       "    .dataframe tbody tr th:only-of-type {\n",
       "        vertical-align: middle;\n",
       "    }\n",
       "\n",
       "    .dataframe tbody tr th {\n",
       "        vertical-align: top;\n",
       "    }\n",
       "\n",
       "    .dataframe thead th {\n",
       "        text-align: right;\n",
       "    }\n",
       "</style>\n",
       "<table border=\"1\" class=\"dataframe\">\n",
       "  <thead>\n",
       "    <tr style=\"text-align: right;\">\n",
       "      <th></th>\n",
       "      <th>preço_total</th>\n",
       "    </tr>\n",
       "    <tr>\n",
       "      <th>mes</th>\n",
       "      <th></th>\n",
       "    </tr>\n",
       "  </thead>\n",
       "  <tbody>\n",
       "    <tr>\n",
       "      <th>1</th>\n",
       "      <td>22846.44</td>\n",
       "    </tr>\n",
       "    <tr>\n",
       "      <th>2</th>\n",
       "      <td>32022.61</td>\n",
       "    </tr>\n",
       "    <tr>\n",
       "      <th>3</th>\n",
       "      <td>20142.11</td>\n",
       "    </tr>\n",
       "    <tr>\n",
       "      <th>4</th>\n",
       "      <td>17280.04</td>\n",
       "    </tr>\n",
       "    <tr>\n",
       "      <th>5</th>\n",
       "      <td>27859.04</td>\n",
       "    </tr>\n",
       "    <tr>\n",
       "      <th>6</th>\n",
       "      <td>33026.64</td>\n",
       "    </tr>\n",
       "    <tr>\n",
       "      <th>7</th>\n",
       "      <td>36737.09</td>\n",
       "    </tr>\n",
       "    <tr>\n",
       "      <th>8</th>\n",
       "      <td>36570.50</td>\n",
       "    </tr>\n",
       "    <tr>\n",
       "      <th>9</th>\n",
       "      <td>32706.96</td>\n",
       "    </tr>\n",
       "    <tr>\n",
       "      <th>10</th>\n",
       "      <td>42001.94</td>\n",
       "    </tr>\n",
       "    <tr>\n",
       "      <th>11</th>\n",
       "      <td>38378.16</td>\n",
       "    </tr>\n",
       "    <tr>\n",
       "      <th>12</th>\n",
       "      <td>20629.44</td>\n",
       "    </tr>\n",
       "  </tbody>\n",
       "</table>\n",
       "</div>"
      ],
      "text/plain": [
       "     preço_total\n",
       "mes             \n",
       "1       22846.44\n",
       "2       32022.61\n",
       "3       20142.11\n",
       "4       17280.04\n",
       "5       27859.04\n",
       "6       33026.64\n",
       "7       36737.09\n",
       "8       36570.50\n",
       "9       32706.96\n",
       "10      42001.94\n",
       "11      38378.16\n",
       "12      20629.44"
      ]
     },
     "execution_count": 22,
     "metadata": {},
     "output_type": "execute_result"
    }
   ],
   "source": [
    "# criando uma variável para armazenar o fatiamento do dataset\n",
    "resultado = vendas.groupby('mes').agg({'preço_total': 'sum'})\n",
    "resultado"
   ]
  },
  {
   "cell_type": "code",
   "execution_count": 23,
   "metadata": {},
   "outputs": [
    {
     "data": {
      "image/png": "[encoded data removed]",
      "text/plain": [
       "<Figure size 432x288 with 1 Axes>"
      ]
     },
     "metadata": {
      "needs_background": "light"
     },
     "output_type": "display_data"
    }
   ],
   "source": [
    "# aqui representei graficamente o desempenho das vendas por mês, sem os fretes.\n",
    "import matplotlib.pyplot as plt\n",
    "\n",
    "mes = range(1,13)\n",
    "\n",
    "plt.bar(mes, resultado['preço_total'])\n",
    "plt.xticks(mes)\n",
    "plt.title('Vendas por mês')\n",
    "plt.xlabel('Mês do ano')\n",
    "plt.ylabel('Vendas totais R$')\n",
    "plt.annotate('Maior valor', xy=(10, 11), xycoords='data', xytext=(15, 10),\n",
    "            textcoords='data', arrowprops=dict(arrowstyle=\"->\",connectionstyle=\"arc3\", color='red'))\n",
    "plt.show()"
   ]
  },
  {
   "cell_type": "markdown",
   "metadata": {},
   "source": [
    "> Claramente através do gráfico de barras o mês de outubro obteve a melhor performance, seguido mês de novembro. Vale destacar a performance positiva dos meses de junho e julho. Já os meses de Março e Abril tiveram as piores performances além do mês de dezembro. O ideal é fazer uma análise mais profunda do porque desses meses terem sido tão abaixos. Com mais dados internos e dados externos, por exemplo."
   ]
  },
  {
   "cell_type": "code",
   "execution_count": 24,
   "metadata": {},
   "outputs": [
    {
     "data": {
      "image/png": "[encoded data removed]",
      "text/plain": [
       "<Figure size 576x288 with 1 Axes>"
      ]
     },
     "metadata": {
      "needs_background": "light"
     },
     "output_type": "display_data"
    }
   ],
   "source": [
    "# plotei um gráfico de linha aonde mostra a tendência de vendas por mês\n",
    "plt.figure(figsize=(8, 4))\n",
    "\n",
    "vendas.groupby('mes')['preço_total'].sum().plot()\n",
    "\n",
    "plt.xticks(range(1, 13))\n",
    "plt.xlabel('Mês')\n",
    "plt.ylabel('R$ vendas')\n",
    "plt.title('Tendência de vendas em 2020')\n",
    "plt.grid()\n",
    "plt.show()"
   ]
  },
  {
   "cell_type": "markdown",
   "metadata": {},
   "source": [
    "> O gráfico mostra um tendência de alta nas vendas a partir de abril, onde desse mês até novembro a empresa obteve bons resultados. Os períodos de fevereiro a março houve queda e de novembro à dezembro."
   ]
  },
  {
   "cell_type": "markdown",
   "metadata": {},
   "source": [
    "## Quais dias do mês são os mais comum para vendas ?"
   ]
  },
  {
   "cell_type": "code",
   "execution_count": 25,
   "metadata": {},
   "outputs": [
    {
     "data": {
      "image/png": "[encoded data removed]",
      "text/plain": [
       "<Figure size 576x288 with 1 Axes>"
      ]
     },
     "metadata": {
      "needs_background": "light"
     },
     "output_type": "display_data"
    }
   ],
   "source": [
    "# plotando um gráfico para mostrar os dias de melhroes vendas \n",
    "dia = vendas.groupby('dia').agg({'preço_total': 'sum'})\n",
    "\n",
    "plt.figure(figsize=(8, 4))\n",
    "\n",
    "plt.plot(dia)\n",
    "plt.xticks(range(1, 32))\n",
    "plt.title('Vendas por dia do mês')\n",
    "plt.xlabel('Dia do mês')\n",
    "plt.ylabel('R$')\n",
    "plt.grid()\n",
    "plt.show()"
   ]
  },
  {
   "cell_type": "markdown",
   "metadata": {},
   "source": [
    "> Como mostra o gráfico acima entre os dias 1 e 5 as vendas totalizaram R$ 180.000,00, no dia 10 há um alta nas vendas também até o dia 15. Há uma queda acentuada a partir do dia 16 até o dia 25. E na última semana há também uma alta nas vendas. Nitidamente na primeira metade do mês ocorreram as maiores receitas."
   ]
  },
  {
   "cell_type": "markdown",
   "metadata": {},
   "source": [
    "## Qual Estado do país nos comprou mais?"
   ]
  },
  {
   "cell_type": "code",
   "execution_count": 27,
   "metadata": {},
   "outputs": [
    {
     "data": {
      "text/html": [
       "<div>\n",
       "<style scoped>\n",
       "    .dataframe tbody tr th:only-of-type {\n",
       "        vertical-align: middle;\n",
       "    }\n",
       "\n",
       "    .dataframe tbody tr th {\n",
       "        vertical-align: top;\n",
       "    }\n",
       "\n",
       "    .dataframe thead th {\n",
       "        text-align: right;\n",
       "    }\n",
       "</style>\n",
       "<table border=\"1\" class=\"dataframe\">\n",
       "  <thead>\n",
       "    <tr style=\"text-align: right;\">\n",
       "      <th></th>\n",
       "      <th>preço_total</th>\n",
       "      <th>peso</th>\n",
       "    </tr>\n",
       "    <tr>\n",
       "      <th>estado</th>\n",
       "      <th></th>\n",
       "      <th></th>\n",
       "    </tr>\n",
       "  </thead>\n",
       "  <tbody>\n",
       "    <tr>\n",
       "      <th>DF</th>\n",
       "      <td>13314.31</td>\n",
       "      <td>3.706477</td>\n",
       "    </tr>\n",
       "    <tr>\n",
       "      <th>MG</th>\n",
       "      <td>17876.35</td>\n",
       "      <td>4.976471</td>\n",
       "    </tr>\n",
       "    <tr>\n",
       "      <th>MT</th>\n",
       "      <td>14256.24</td>\n",
       "      <td>3.968694</td>\n",
       "    </tr>\n",
       "    <tr>\n",
       "      <th>PR</th>\n",
       "      <td>26693.87</td>\n",
       "      <td>7.431118</td>\n",
       "    </tr>\n",
       "    <tr>\n",
       "      <th>RJ</th>\n",
       "      <td>31732.30</td>\n",
       "      <td>8.833731</td>\n",
       "    </tr>\n",
       "    <tr>\n",
       "      <th>RS</th>\n",
       "      <td>78341.81</td>\n",
       "      <td>21.809023</td>\n",
       "    </tr>\n",
       "    <tr>\n",
       "      <th>SC</th>\n",
       "      <td>33998.89</td>\n",
       "      <td>9.464711</td>\n",
       "    </tr>\n",
       "    <tr>\n",
       "      <th>SP</th>\n",
       "      <td>94909.15</td>\n",
       "      <td>26.421088</td>\n",
       "    </tr>\n",
       "  </tbody>\n",
       "</table>\n",
       "</div>"
      ],
      "text/plain": [
       "        preço_total       peso\n",
       "estado                        \n",
       "DF         13314.31   3.706477\n",
       "MG         17876.35   4.976471\n",
       "MT         14256.24   3.968694\n",
       "PR         26693.87   7.431118\n",
       "RJ         31732.30   8.833731\n",
       "RS         78341.81  21.809023\n",
       "SC         33998.89   9.464711\n",
       "SP         94909.15  26.421088"
      ]
     },
     "execution_count": 27,
     "metadata": {},
     "output_type": "execute_result"
    }
   ],
   "source": [
    "# utilizando o groupby para somar o total de vendas por estado e colocar em uma variável.\n",
    "# depois filtrar pelos melhores resultados de vendas de acordo com um total mínimo.\n",
    "# escolhi filtrar vendas totais de no mínimo R$ 10.000,00.\n",
    "resultados = vendas.groupby('estado').agg({'preço_total': 'sum'})\n",
    "resultados = resultados[resultados['preço_total'] >= 10000]\n",
    "resultados['peso'] = resultados['preço_total'] / 359217.42 * 100 # criando uma coluna de peso % no total das receitas\n",
    "\n",
    "resultados"
   ]
  },
  {
   "cell_type": "code",
   "execution_count": 28,
   "metadata": {},
   "outputs": [
    {
     "data": {
      "text/plain": [
       "86.61131189016476"
      ]
     },
     "execution_count": 28,
     "metadata": {},
     "output_type": "execute_result"
    }
   ],
   "source": [
    "# a soma dos pesos desses estados, cujo o faturamento foi maior que R$ 10.000,00.\n",
    "resultados.peso.sum()\n",
    "# a soma deles impactam 86,41% total de faturamento no ano"
   ]
  },
  {
   "cell_type": "code",
   "execution_count": 29,
   "metadata": {},
   "outputs": [
    {
     "data": {
      "image/png": "[encoded data removed]",
      "text/plain": [
       "<Figure size 432x288 with 1 Axes>"
      ]
     },
     "metadata": {
      "needs_background": "light"
     },
     "output_type": "display_data"
    }
   ],
   "source": [
    "# criando uma variável que percorra a variável 'resultados'. Nela quero filtrar os estados que geraram mais receitas no ano.\n",
    "import matplotlib.pyplot as plt\n",
    "\n",
    "plt.rc('figure', figsize=(6, 4))\n",
    "\n",
    "estados = [estados for estados, resultados in resultados.groupby('estado')]\n",
    "\n",
    "plt.barh(estados, resultados['preço_total'], color='blue')\n",
    "plt.yticks(estados, size=12)\n",
    "plt.title('Vendas por Estado')\n",
    "plt.xlabel('Vendas totais R$')\n",
    "plt.ylabel('UF')\n",
    "plt.show()\n",
    "\n",
    "## pelo gráfico e filtro com vendas no ano acima de R$ 10.000,00 os estados que mais compraram foram:\n",
    "# São Paulo, Rio GRande do Sul, Santa Catarina, Rio de Janeiro, Paraná."
   ]
  },
  {
   "cell_type": "markdown",
   "metadata": {},
   "source": [
    "> O estado de São Paulo, junto com o Rio GRande do Sul foram os estados com melhores performances da empresa. São Paulo gerou aproximadamente 1/3 das vendas totais. Bastante expressivo. SP e RS juntos quase a metade do faturamento total. Santa Catarina e Rio de Janeiro também tiveram boa performance, 3° e 4° posição respectivamente."
   ]
  },
  {
   "cell_type": "markdown",
   "metadata": {},
   "source": [
    "## Qual o impacto de clientes Pessoa física e clientes Pessoa jurídica nas vendas? "
   ]
  },
  {
   "cell_type": "code",
   "execution_count": 26,
   "metadata": {},
   "outputs": [
    {
     "data": {
      "text/html": [
       "<div>\n",
       "<style scoped>\n",
       "    .dataframe tbody tr th:only-of-type {\n",
       "        vertical-align: middle;\n",
       "    }\n",
       "\n",
       "    .dataframe tbody tr th {\n",
       "        vertical-align: top;\n",
       "    }\n",
       "\n",
       "    .dataframe thead th {\n",
       "        text-align: right;\n",
       "    }\n",
       "</style>\n",
       "<table border=\"1\" class=\"dataframe\">\n",
       "  <thead>\n",
       "    <tr style=\"text-align: right;\">\n",
       "      <th></th>\n",
       "      <th>n°_do_pedido</th>\n",
       "      <th>data</th>\n",
       "      <th>nome_do_contato</th>\n",
       "      <th>cpf_cnpj</th>\n",
       "      <th>estado</th>\n",
       "      <th>município</th>\n",
       "      <th>código_do_produto</th>\n",
       "      <th>descrição</th>\n",
       "      <th>quantidade</th>\n",
       "      <th>preço_total</th>\n",
       "      <th>mes</th>\n",
       "      <th>dia</th>\n",
       "      <th>tipo_cliente</th>\n",
       "    </tr>\n",
       "  </thead>\n",
       "  <tbody>\n",
       "    <tr>\n",
       "      <th>0</th>\n",
       "      <td>410</td>\n",
       "      <td>2020-01-01</td>\n",
       "      <td>Matheus Oliveira Lima</td>\n",
       "      <td>139.408.067-06</td>\n",
       "      <td>RJ</td>\n",
       "      <td>Rio de Janeiro</td>\n",
       "      <td>EP1524</td>\n",
       "      <td>Patch Emborrachado Bandeira do Brasil</td>\n",
       "      <td>2</td>\n",
       "      <td>42.98</td>\n",
       "      <td>1</td>\n",
       "      <td>1</td>\n",
       "      <td>pessoa_física</td>\n",
       "    </tr>\n",
       "    <tr>\n",
       "      <th>1</th>\n",
       "      <td>411</td>\n",
       "      <td>2020-01-01</td>\n",
       "      <td>Lucas Jarina Araujo</td>\n",
       "      <td>424.879.858-10</td>\n",
       "      <td>SP</td>\n",
       "      <td>Descalvado</td>\n",
       "      <td>EP739</td>\n",
       "      <td>Patch Bordado Soutache Personalizado Tipo Sang...</td>\n",
       "      <td>1</td>\n",
       "      <td>15.49</td>\n",
       "      <td>1</td>\n",
       "      <td>1</td>\n",
       "      <td>pessoa_física</td>\n",
       "    </tr>\n",
       "    <tr>\n",
       "      <th>2</th>\n",
       "      <td>412</td>\n",
       "      <td>2020-01-01</td>\n",
       "      <td>Luciano Tavares</td>\n",
       "      <td>382.420.019-87</td>\n",
       "      <td>SC</td>\n",
       "      <td>Joinville</td>\n",
       "      <td>EP192</td>\n",
       "      <td>Patch Bordado Brazilian Veteran | Veterano bra...</td>\n",
       "      <td>1</td>\n",
       "      <td>15.49</td>\n",
       "      <td>1</td>\n",
       "      <td>1</td>\n",
       "      <td>pessoa_física</td>\n",
       "    </tr>\n",
       "    <tr>\n",
       "      <th>3</th>\n",
       "      <td>413</td>\n",
       "      <td>2020-01-02</td>\n",
       "      <td>Lucas Skrock</td>\n",
       "      <td>094.709.099-17</td>\n",
       "      <td>PR</td>\n",
       "      <td>Curitiba</td>\n",
       "      <td>EP887</td>\n",
       "      <td>Patch bordado MAD MAX - I Witness Me</td>\n",
       "      <td>1</td>\n",
       "      <td>13.49</td>\n",
       "      <td>1</td>\n",
       "      <td>2</td>\n",
       "      <td>pessoa_física</td>\n",
       "    </tr>\n",
       "    <tr>\n",
       "      <th>4</th>\n",
       "      <td>413</td>\n",
       "      <td>2020-01-02</td>\n",
       "      <td>Lucas Skrock</td>\n",
       "      <td>094.709.099-17</td>\n",
       "      <td>PR</td>\n",
       "      <td>Curitiba</td>\n",
       "      <td>EP619</td>\n",
       "      <td>Patch Bordado Stars (Resident Evil)</td>\n",
       "      <td>1</td>\n",
       "      <td>13.49</td>\n",
       "      <td>1</td>\n",
       "      <td>2</td>\n",
       "      <td>pessoa_física</td>\n",
       "    </tr>\n",
       "  </tbody>\n",
       "</table>\n",
       "</div>"
      ],
      "text/plain": [
       "   n°_do_pedido       data        nome_do_contato        cpf_cnpj estado  \\\n",
       "0           410 2020-01-01  Matheus Oliveira Lima  139.408.067-06     RJ   \n",
       "1           411 2020-01-01    Lucas Jarina Araujo  424.879.858-10     SP   \n",
       "2           412 2020-01-01        Luciano Tavares  382.420.019-87     SC   \n",
       "3           413 2020-01-02           Lucas Skrock  094.709.099-17     PR   \n",
       "4           413 2020-01-02           Lucas Skrock  094.709.099-17     PR   \n",
       "\n",
       "        município código_do_produto  \\\n",
       "0  Rio de Janeiro            EP1524   \n",
       "1      Descalvado             EP739   \n",
       "2       Joinville             EP192   \n",
       "3        Curitiba             EP887   \n",
       "4        Curitiba             EP619   \n",
       "\n",
       "                                           descrição  quantidade  preço_total  \\\n",
       "0              Patch Emborrachado Bandeira do Brasil           2        42.98   \n",
       "1  Patch Bordado Soutache Personalizado Tipo Sang...           1        15.49   \n",
       "2  Patch Bordado Brazilian Veteran | Veterano bra...           1        15.49   \n",
       "3               Patch bordado MAD MAX - I Witness Me           1        13.49   \n",
       "4                Patch Bordado Stars (Resident Evil)           1        13.49   \n",
       "\n",
       "   mes  dia   tipo_cliente  \n",
       "0    1    1  pessoa_física  \n",
       "1    1    1  pessoa_física  \n",
       "2    1    1  pessoa_física  \n",
       "3    1    2  pessoa_física  \n",
       "4    1    2  pessoa_física  "
      ]
     },
     "execution_count": 26,
     "metadata": {},
     "output_type": "execute_result"
    }
   ],
   "source": [
    "# criando uma função na qual faça o comprimento de caracteres na coluna 'Cpf/Cnpj'.\n",
    "# em seguida criei uma coluna informando o total desses caracteres.\n",
    "# sei que os registros de CPF tem o total de 14 caracteres, e CNPJ de 18 caracteres.\n",
    "\n",
    "def tipo_cliente(x): # nome da função, junto com uma variável nela\n",
    "    return len(x) # retorno da função dentro de uma outra função\n",
    "\n",
    "tipo_cliente(vendas['cpf_cnpj'])\n",
    "\n",
    "vendas['tipo_cliente'] = vendas['cpf_cnpj'].apply(tipo_cliente)\n",
    "\n",
    "# criando uma função na qual substitua os valores 14 e 18 pelos nomes corretos de 'Pessoa física' e 'Pessoa jurídica'.\n",
    "def tipo(num): \n",
    "    if num == 14: # estrutura if para buscar a variável igual a 14 caracteres      \n",
    "        return 'pessoa_física'\n",
    "    else: # se não, buscar a variável com 18 caracteres\n",
    "        num == 18\n",
    "        return 'pessoa_jurídica'\n",
    "\n",
    "vendas['tipo_cliente'] = vendas['tipo_cliente'].map(tipo) # resolvi criar uma coluna \n",
    "\n",
    "vendas.head()"
   ]
  },
  {
   "cell_type": "code",
   "execution_count": 27,
   "metadata": {},
   "outputs": [
    {
     "data": {
      "text/html": [
       "<div>\n",
       "<style scoped>\n",
       "    .dataframe tbody tr th:only-of-type {\n",
       "        vertical-align: middle;\n",
       "    }\n",
       "\n",
       "    .dataframe tbody tr th {\n",
       "        vertical-align: top;\n",
       "    }\n",
       "\n",
       "    .dataframe thead th {\n",
       "        text-align: right;\n",
       "    }\n",
       "</style>\n",
       "<table border=\"1\" class=\"dataframe\">\n",
       "  <thead>\n",
       "    <tr style=\"text-align: right;\">\n",
       "      <th>mes</th>\n",
       "      <th>1</th>\n",
       "      <th>2</th>\n",
       "      <th>3</th>\n",
       "      <th>4</th>\n",
       "      <th>5</th>\n",
       "      <th>6</th>\n",
       "      <th>7</th>\n",
       "      <th>8</th>\n",
       "      <th>9</th>\n",
       "      <th>10</th>\n",
       "      <th>11</th>\n",
       "      <th>12</th>\n",
       "    </tr>\n",
       "    <tr>\n",
       "      <th>tipo_cliente</th>\n",
       "      <th></th>\n",
       "      <th></th>\n",
       "      <th></th>\n",
       "      <th></th>\n",
       "      <th></th>\n",
       "      <th></th>\n",
       "      <th></th>\n",
       "      <th></th>\n",
       "      <th></th>\n",
       "      <th></th>\n",
       "      <th></th>\n",
       "      <th></th>\n",
       "    </tr>\n",
       "  </thead>\n",
       "  <tbody>\n",
       "    <tr>\n",
       "      <th>pessoa_física</th>\n",
       "      <td>18769.91</td>\n",
       "      <td>29490.71</td>\n",
       "      <td>16248.30</td>\n",
       "      <td>16361.04</td>\n",
       "      <td>24059.32</td>\n",
       "      <td>28671.90</td>\n",
       "      <td>33616.86</td>\n",
       "      <td>30006.77</td>\n",
       "      <td>26471.46</td>\n",
       "      <td>34181.92</td>\n",
       "      <td>29034.89</td>\n",
       "      <td>14376.89</td>\n",
       "    </tr>\n",
       "    <tr>\n",
       "      <th>pessoa_jurídica</th>\n",
       "      <td>4076.53</td>\n",
       "      <td>2531.90</td>\n",
       "      <td>3893.81</td>\n",
       "      <td>919.00</td>\n",
       "      <td>3799.72</td>\n",
       "      <td>4354.74</td>\n",
       "      <td>3120.23</td>\n",
       "      <td>6563.73</td>\n",
       "      <td>6235.50</td>\n",
       "      <td>7820.02</td>\n",
       "      <td>9343.27</td>\n",
       "      <td>6252.55</td>\n",
       "    </tr>\n",
       "  </tbody>\n",
       "</table>\n",
       "</div>"
      ],
      "text/plain": [
       "mes                    1         2         3         4         5         6   \\\n",
       "tipo_cliente                                                                  \n",
       "pessoa_física    18769.91  29490.71  16248.30  16361.04  24059.32  28671.90   \n",
       "pessoa_jurídica   4076.53   2531.90   3893.81    919.00   3799.72   4354.74   \n",
       "\n",
       "mes                    7         8         9         10        11        12  \n",
       "tipo_cliente                                                                 \n",
       "pessoa_física    33616.86  30006.77  26471.46  34181.92  29034.89  14376.89  \n",
       "pessoa_jurídica   3120.23   6563.73   6235.50   7820.02   9343.27   6252.55  "
      ]
     },
     "execution_count": 27,
     "metadata": {},
     "output_type": "execute_result"
    }
   ],
   "source": [
    "# todos os meses as vendas para 'pessoa física' foram superiores em números absolutos.\n",
    "vendas.groupby(['tipo_cliente', 'mes'])['preço_total'].aggregate('sum').unstack()"
   ]
  },
  {
   "cell_type": "code",
   "execution_count": 28,
   "metadata": {},
   "outputs": [
    {
     "data": {
      "image/png": "[encoded data removed]",
      "text/plain": [
       "<Figure size 432x288 with 1 Axes>"
      ]
     },
     "metadata": {
      "needs_background": "light"
     },
     "output_type": "display_data"
    }
   ],
   "source": [
    "# gerei um gráfico com o total das receitas por tipo de cliente.\n",
    "# as vendas por 'Pessoa física' são expressivamente maiores.\n",
    "import matplotlib.pyplot as plt\n",
    "\n",
    "total = vendas.groupby('tipo_cliente').sum()\n",
    "\n",
    "tipo = [tipo for tipo, pf in total.groupby('tipo_cliente')]\n",
    "\n",
    "plt.bar(tipo, total['preço_total'], color='green', alpha=0.60)\n",
    "plt.xticks(tipo, size=12)\n",
    "plt.title('Vendas por tipo de cliente')\n",
    "plt.ylabel('Vendas totais R$')\n",
    "plt.show()"
   ]
  },
  {
   "cell_type": "code",
   "execution_count": 29,
   "metadata": {},
   "outputs": [
    {
     "data": {
      "text/html": [
       "<div>\n",
       "<style scoped>\n",
       "    .dataframe tbody tr th:only-of-type {\n",
       "        vertical-align: middle;\n",
       "    }\n",
       "\n",
       "    .dataframe tbody tr th {\n",
       "        vertical-align: top;\n",
       "    }\n",
       "\n",
       "    .dataframe thead th {\n",
       "        text-align: right;\n",
       "    }\n",
       "</style>\n",
       "<table border=\"1\" class=\"dataframe\">\n",
       "  <thead>\n",
       "    <tr style=\"text-align: right;\">\n",
       "      <th></th>\n",
       "      <th>quantidade</th>\n",
       "      <th>preço_total</th>\n",
       "    </tr>\n",
       "    <tr>\n",
       "      <th>tipo_cliente</th>\n",
       "      <th></th>\n",
       "      <th></th>\n",
       "    </tr>\n",
       "  </thead>\n",
       "  <tbody>\n",
       "    <tr>\n",
       "      <th>pessoa_física</th>\n",
       "      <td>23177</td>\n",
       "      <td>301289.97</td>\n",
       "    </tr>\n",
       "    <tr>\n",
       "      <th>pessoa_jurídica</th>\n",
       "      <td>7448</td>\n",
       "      <td>58911.00</td>\n",
       "    </tr>\n",
       "  </tbody>\n",
       "</table>\n",
       "</div>"
      ],
      "text/plain": [
       "                 quantidade  preço_total\n",
       "tipo_cliente                            \n",
       "pessoa_física         23177    301289.97\n",
       "pessoa_jurídica        7448     58911.00"
      ]
     },
     "execution_count": 29,
     "metadata": {},
     "output_type": "execute_result"
    }
   ],
   "source": [
    "# quantidade de patches e receitas por tipo de cliente\n",
    "total = vendas.groupby('tipo_cliente').agg({'quantidade': 'sum', 'preço_total': 'sum'})\n",
    "total"
   ]
  },
  {
   "cell_type": "code",
   "execution_count": 30,
   "metadata": {},
   "outputs": [
    {
     "data": {
      "text/plain": [
       "2075"
      ]
     },
     "execution_count": 30,
     "metadata": {},
     "output_type": "execute_result"
    }
   ],
   "source": [
    "# número de pedidos feitos por tipo de clinte\n",
    "# pessoa física\n",
    "pf = vendas.loc[vendas['tipo_cliente'] == 'pessoa_física']\n",
    "pf['n°_do_pedido'].nunique()"
   ]
  },
  {
   "cell_type": "code",
   "execution_count": 31,
   "metadata": {},
   "outputs": [
    {
     "data": {
      "text/plain": [
       "84"
      ]
     },
     "execution_count": 31,
     "metadata": {},
     "output_type": "execute_result"
    }
   ],
   "source": [
    "# número de pedidos pessoa jurídica\n",
    "pj = vendas.loc[vendas['tipo_cliente'] == 'pessoa_jurídica']\n",
    "pj['n°_do_pedido'].nunique()"
   ]
  },
  {
   "cell_type": "code",
   "execution_count": 32,
   "metadata": {},
   "outputs": [
    {
     "data": {
      "text/html": [
       "<div>\n",
       "<style scoped>\n",
       "    .dataframe tbody tr th:only-of-type {\n",
       "        vertical-align: middle;\n",
       "    }\n",
       "\n",
       "    .dataframe tbody tr th {\n",
       "        vertical-align: top;\n",
       "    }\n",
       "\n",
       "    .dataframe thead th {\n",
       "        text-align: right;\n",
       "    }\n",
       "</style>\n",
       "<table border=\"1\" class=\"dataframe\">\n",
       "  <thead>\n",
       "    <tr style=\"text-align: right;\">\n",
       "      <th></th>\n",
       "      <th>quantidade</th>\n",
       "      <th>preço_total</th>\n",
       "      <th>pedidos</th>\n",
       "    </tr>\n",
       "    <tr>\n",
       "      <th>tipo_cliente</th>\n",
       "      <th></th>\n",
       "      <th></th>\n",
       "      <th></th>\n",
       "    </tr>\n",
       "  </thead>\n",
       "  <tbody>\n",
       "    <tr>\n",
       "      <th>pessoa_física</th>\n",
       "      <td>23177</td>\n",
       "      <td>301289.97</td>\n",
       "      <td>2075</td>\n",
       "    </tr>\n",
       "    <tr>\n",
       "      <th>pessoa_jurídica</th>\n",
       "      <td>7448</td>\n",
       "      <td>58911.00</td>\n",
       "      <td>84</td>\n",
       "    </tr>\n",
       "  </tbody>\n",
       "</table>\n",
       "</div>"
      ],
      "text/plain": [
       "                 quantidade  preço_total  pedidos\n",
       "tipo_cliente                                     \n",
       "pessoa_física         23177    301289.97     2075\n",
       "pessoa_jurídica        7448     58911.00       84"
      ]
     },
     "execution_count": 32,
     "metadata": {},
     "output_type": "execute_result"
    }
   ],
   "source": [
    "# criei uma coluna para inserir o total de pedidos por tipo de cliente\n",
    "# o objetivo disso é calcular o tícket médio por tipo de cliente\n",
    "total['pedidos'] = (2075, 84)\n",
    "total"
   ]
  },
  {
   "cell_type": "code",
   "execution_count": 33,
   "metadata": {},
   "outputs": [
    {
     "data": {
      "text/html": [
       "<div>\n",
       "<style scoped>\n",
       "    .dataframe tbody tr th:only-of-type {\n",
       "        vertical-align: middle;\n",
       "    }\n",
       "\n",
       "    .dataframe tbody tr th {\n",
       "        vertical-align: top;\n",
       "    }\n",
       "\n",
       "    .dataframe thead th {\n",
       "        text-align: right;\n",
       "    }\n",
       "</style>\n",
       "<table border=\"1\" class=\"dataframe\">\n",
       "  <thead>\n",
       "    <tr style=\"text-align: right;\">\n",
       "      <th></th>\n",
       "      <th>quantidade</th>\n",
       "      <th>preço_total</th>\n",
       "      <th>pedidos</th>\n",
       "      <th>tícket_médio</th>\n",
       "    </tr>\n",
       "    <tr>\n",
       "      <th>tipo_cliente</th>\n",
       "      <th></th>\n",
       "      <th></th>\n",
       "      <th></th>\n",
       "      <th></th>\n",
       "    </tr>\n",
       "  </thead>\n",
       "  <tbody>\n",
       "    <tr>\n",
       "      <th>pessoa_física</th>\n",
       "      <td>23177</td>\n",
       "      <td>301289.97</td>\n",
       "      <td>2075</td>\n",
       "      <td>145.199986</td>\n",
       "    </tr>\n",
       "    <tr>\n",
       "      <th>pessoa_jurídica</th>\n",
       "      <td>7448</td>\n",
       "      <td>58911.00</td>\n",
       "      <td>84</td>\n",
       "      <td>701.321429</td>\n",
       "    </tr>\n",
       "  </tbody>\n",
       "</table>\n",
       "</div>"
      ],
      "text/plain": [
       "                 quantidade  preço_total  pedidos  tícket_médio\n",
       "tipo_cliente                                                   \n",
       "pessoa_física         23177    301289.97     2075    145.199986\n",
       "pessoa_jurídica        7448     58911.00       84    701.321429"
      ]
     },
     "execution_count": 33,
     "metadata": {},
     "output_type": "execute_result"
    }
   ],
   "source": [
    "# criando a coluna tícket médio\n",
    "total['tícket_médio'] = total['preço_total'] / total.pedidos\n",
    "total\n",
    "# total do tícket médio por tipo de clinte"
   ]
  },
  {
   "cell_type": "code",
   "execution_count": 34,
   "metadata": {},
   "outputs": [
    {
     "data": {
      "image/png": "[encoded data removed]",
      "text/plain": [
       "<Figure size 432x288 with 1 Axes>"
      ]
     },
     "metadata": {
      "needs_background": "light"
     },
     "output_type": "display_data"
    }
   ],
   "source": [
    "# plotando o gráfico do tícket médio por tipo de cliente\n",
    "import matplotlib.pyplot as plt\n",
    "\n",
    "total.tícket_médio.plot(kind='bar', color='blue', alpha=0.7)\n",
    "\n",
    "plt.title('Tícket médio p/tipo de cliente')\n",
    "plt.xlabel('Tipo de cliente')\n",
    "plt.ylabel('R$')\n",
    "plt.show()\n",
    "# pessoa jurídica tem um tícket médio bem superior "
   ]
  },
  {
   "cell_type": "code",
   "execution_count": 35,
   "metadata": {},
   "outputs": [
    {
     "data": {
      "text/plain": [
       "360200.96999997104"
      ]
     },
     "execution_count": 35,
     "metadata": {},
     "output_type": "execute_result"
    }
   ],
   "source": [
    "# calculando o total de receitas\n",
    "total['preço_total'].sum()"
   ]
  },
  {
   "cell_type": "code",
   "execution_count": 36,
   "metadata": {},
   "outputs": [
    {
     "data": {
      "text/plain": [
       "(83.64496585461626, 16.355036921611756)"
      ]
     },
     "execution_count": 36,
     "metadata": {},
     "output_type": "execute_result"
    }
   ],
   "source": [
    "# calculando o peso dos tipos de cliente na receita total\n",
    "pf = 301289.97 / 360200.96 * 100\n",
    "pj = 58911.00 / 360200.96 * 100\n",
    "(pf, pj)"
   ]
  },
  {
   "cell_type": "code",
   "execution_count": 37,
   "metadata": {},
   "outputs": [
    {
     "data": {
      "text/html": [
       "<div>\n",
       "<style scoped>\n",
       "    .dataframe tbody tr th:only-of-type {\n",
       "        vertical-align: middle;\n",
       "    }\n",
       "\n",
       "    .dataframe tbody tr th {\n",
       "        vertical-align: top;\n",
       "    }\n",
       "\n",
       "    .dataframe thead th {\n",
       "        text-align: right;\n",
       "    }\n",
       "</style>\n",
       "<table border=\"1\" class=\"dataframe\">\n",
       "  <thead>\n",
       "    <tr style=\"text-align: right;\">\n",
       "      <th></th>\n",
       "      <th>quantidade</th>\n",
       "      <th>preço_total</th>\n",
       "      <th>pedidos</th>\n",
       "      <th>tícket_médio</th>\n",
       "      <th>peso</th>\n",
       "    </tr>\n",
       "    <tr>\n",
       "      <th>tipo_cliente</th>\n",
       "      <th></th>\n",
       "      <th></th>\n",
       "      <th></th>\n",
       "      <th></th>\n",
       "      <th></th>\n",
       "    </tr>\n",
       "  </thead>\n",
       "  <tbody>\n",
       "    <tr>\n",
       "      <th>pessoa_física</th>\n",
       "      <td>23177</td>\n",
       "      <td>301289.97</td>\n",
       "      <td>2075</td>\n",
       "      <td>145.199986</td>\n",
       "      <td>83.6</td>\n",
       "    </tr>\n",
       "    <tr>\n",
       "      <th>pessoa_jurídica</th>\n",
       "      <td>7448</td>\n",
       "      <td>58911.00</td>\n",
       "      <td>84</td>\n",
       "      <td>701.321429</td>\n",
       "      <td>16.3</td>\n",
       "    </tr>\n",
       "  </tbody>\n",
       "</table>\n",
       "</div>"
      ],
      "text/plain": [
       "                 quantidade  preço_total  pedidos  tícket_médio  peso\n",
       "tipo_cliente                                                         \n",
       "pessoa_física         23177    301289.97     2075    145.199986  83.6\n",
       "pessoa_jurídica        7448     58911.00       84    701.321429  16.3"
      ]
     },
     "execution_count": 37,
     "metadata": {},
     "output_type": "execute_result"
    }
   ],
   "source": [
    "# criando a coluna peso\n",
    "total['peso'] = (83.6, 16.3)\n",
    "total"
   ]
  },
  {
   "cell_type": "code",
   "execution_count": 38,
   "metadata": {},
   "outputs": [
    {
     "data": {
      "image/png": "[encoded data removed]",
      "text/plain": [
       "<Figure size 432x288 with 1 Axes>"
      ]
     },
     "metadata": {
      "needs_background": "light"
     },
     "output_type": "display_data"
    }
   ],
   "source": [
    "# plotando o gráfico da coluna peso com o impacto das receitas por tipo de cliente no total\n",
    "import matplotlib.pyplot as plt\n",
    "\n",
    "total['peso'].plot(kind='bar', color='black', alpha=0.7)\n",
    "\n",
    "plt.title('% peso faturamento total')\n",
    "plt.xlabel('Tipo de cliente')\n",
    "plt.ylabel('%')\n",
    "plt.show()\n",
    "# mais de 80% das receitas totais concentram-se em clientes pessoa física"
   ]
  },
  {
   "cell_type": "markdown",
   "metadata": {},
   "source": [
    "> Analisando as vendas por tipo de clinte fica bastante evidente que o cliente pessoa física tem um impacto muito grande nas receitas da empresa, pouco mais de 80% do faturamento total. Embora quando calculei o tícket médio, indicador bastante importante, o tipo de cliente pessoa jurídica tem um valor de 701,32, contra 145,92 do cliente pessoa física."
   ]
  },
  {
   "cell_type": "markdown",
   "metadata": {},
   "source": [
    "## Qual a quantidade unitária apareceu mais vezes nos pedidos?"
   ]
  },
  {
   "cell_type": "code",
   "execution_count": 24,
   "metadata": {},
   "outputs": [
    {
     "data": {
      "text/plain": [
       "2159"
      ]
     },
     "execution_count": 24,
     "metadata": {},
     "output_type": "execute_result"
    }
   ],
   "source": [
    "# criando a coluna 'grupo' no dataset principal para verificar os produtos na mesma linha\n",
    "# assim, consigo contar quantas unidades foram compradas em cada pedido\n",
    "vendas['grupo'] = vendas.groupby('n°_do_pedido')['descrição'].transform(lambda x: ','.join(x))\n",
    "vendas['n°_do_pedido'].nunique() # contando pedidos únicos"
   ]
  },
  {
   "cell_type": "code",
   "execution_count": 71,
   "metadata": {},
   "outputs": [
    {
     "data": {
      "text/html": [
       "<div>\n",
       "<style scoped>\n",
       "    .dataframe tbody tr th:only-of-type {\n",
       "        vertical-align: middle;\n",
       "    }\n",
       "\n",
       "    .dataframe tbody tr th {\n",
       "        vertical-align: top;\n",
       "    }\n",
       "\n",
       "    .dataframe thead th {\n",
       "        text-align: right;\n",
       "    }\n",
       "</style>\n",
       "<table border=\"1\" class=\"dataframe\">\n",
       "  <thead>\n",
       "    <tr style=\"text-align: right;\">\n",
       "      <th></th>\n",
       "      <th></th>\n",
       "      <th>quantidade</th>\n",
       "    </tr>\n",
       "    <tr>\n",
       "      <th>grupo</th>\n",
       "      <th>n°_do_pedido</th>\n",
       "      <th></th>\n",
       "    </tr>\n",
       "  </thead>\n",
       "  <tbody>\n",
       "    <tr>\n",
       "      <th>Patch Digital  5 x 6 cm,Patch Digital  5 cm,Patch Digital  3 x 2,4 cm,Patch Digital  5,5 x 4,4 cm</th>\n",
       "      <th>2662</th>\n",
       "      <td>1000</td>\n",
       "    </tr>\n",
       "    <tr>\n",
       "      <th>Patch Digital  4,5 cm,Patch Digital  4,5 cm,Patch Digital 6 cm,Patch Digital 6 cm</th>\n",
       "      <th>1185</th>\n",
       "      <td>728</td>\n",
       "    </tr>\n",
       "    <tr>\n",
       "      <th>Patch Digital Personalizado sem borda somente impressão</th>\n",
       "      <th>564</th>\n",
       "      <td>600</td>\n",
       "    </tr>\n",
       "    <tr>\n",
       "      <th>Patch Emborrachado Personalizado 5 cm</th>\n",
       "      <th>2130</th>\n",
       "      <td>600</td>\n",
       "    </tr>\n",
       "    <tr>\n",
       "      <th>Patch Bordado Personalizado  – 10 cm,Patch Bordado Personalizado  – 10 cm</th>\n",
       "      <th>857</th>\n",
       "      <td>500</td>\n",
       "    </tr>\n",
       "    <tr>\n",
       "      <th>Patch Bordado Personalizado 4 cm</th>\n",
       "      <th>2634</th>\n",
       "      <td>400</td>\n",
       "    </tr>\n",
       "    <tr>\n",
       "      <th>Patch Emborrachado Personalizado 8 cm,Patch Emborrachado Personalizado 8 cm,Patch Emborrachado Personalizado 8 cm,Patch Emborrachado Personalizado 8 cm,Patch Emborrachado Personalizado 8 cm,Patch Emborrachado Personalizado 8 cm,Patch Emborrachado Personalizado 8 cm,Patch Emborrachado Personalizado 8 cm</th>\n",
       "      <th>724</th>\n",
       "      <td>320</td>\n",
       "    </tr>\n",
       "    <tr>\n",
       "      <th>Patch Emborrachado Personalizado 9cm,Patch Emborrachado Personalizado 8 cm,Patch Emborrachado Personalizado 8 cm,Patch Digital  9 cm,Patch Digital  8 cm,Patch Digital  8 cm</th>\n",
       "      <th>1999</th>\n",
       "      <td>300</td>\n",
       "    </tr>\n",
       "    <tr>\n",
       "      <th>Patch Bordado 6,5 cm,Patch Bordado 6,5 cm,Patch Bordado 6,5 cm,Patch Bordado Personalizado  8 cm,Patch Bordado Personalizado  - 8 cm,Patch Bordado Personalizado  - 8 cm,Patch Bordado Personalizado  - 8 cm</th>\n",
       "      <th>1634</th>\n",
       "      <td>275</td>\n",
       "    </tr>\n",
       "    <tr>\n",
       "      <th>Patch Emborrachado Brasão da Polícia civil Colorido,Patch Emborrachado Brasão da Polícia civil negativo,Patch Emborrachado tarja colete policia civil cor negativo,Patch Emborrachado Bandeira Rio Grande do Sul NEGATIVO</th>\n",
       "      <th>2914</th>\n",
       "      <td>250</td>\n",
       "    </tr>\n",
       "  </tbody>\n",
       "</table>\n",
       "</div>"
      ],
      "text/plain": [
       "                                                                 quantidade\n",
       "grupo                                              n°_do_pedido            \n",
       "Patch Digital  5 x 6 cm,Patch Digital  5 cm,Pat... 2662                1000\n",
       "Patch Digital  4,5 cm,Patch Digital  4,5 cm,Pat... 1185                 728\n",
       "Patch Digital Personalizado sem borda somente i... 564                  600\n",
       "Patch Emborrachado Personalizado 5 cm              2130                 600\n",
       "Patch Bordado Personalizado  – 10 cm,Patch Bord... 857                  500\n",
       "Patch Bordado Personalizado 4 cm                   2634                 400\n",
       "Patch Emborrachado Personalizado 8 cm,Patch Emb... 724                  320\n",
       "Patch Emborrachado Personalizado 9cm,Patch Embo... 1999                 300\n",
       "Patch Bordado 6,5 cm,Patch Bordado 6,5 cm,Patch... 1634                 275\n",
       "Patch Emborrachado Brasão da Polícia civil Colo... 2914                 250"
      ]
     },
     "execution_count": 71,
     "metadata": {},
     "output_type": "execute_result"
    }
   ],
   "source": [
    "# trazendo os dados para um novo dataset\n",
    "pedidos_grupo = vendas.groupby(['grupo', 'n°_do_pedido']).agg({'quantidade': 'sum'}).sort_values(by='quantidade', ascending=False)\n",
    "pedidos_grupo.head(10)"
   ]
  },
  {
   "cell_type": "code",
   "execution_count": 83,
   "metadata": {},
   "outputs": [
    {
     "data": {
      "text/plain": [
       "quantidade\n",
       "2             340\n",
       "1             320\n",
       "3             232\n",
       "4             201\n",
       "10            177\n",
       "7             150\n",
       "5             142\n",
       "6             103\n",
       "20             43\n",
       "50             42\n",
       "dtype: int64"
      ]
     },
     "execution_count": 83,
     "metadata": {},
     "output_type": "execute_result"
    }
   ],
   "source": [
    "grupo = pedidos_grupo.value_counts() # contando oa valores por quantidade\n",
    "# 340 pedidos tiveram 2 unidades compradas.\n",
    "# 320 pedidos tiveram 1 unidade comprada.\n",
    "grupo.head(10)"
   ]
  },
  {
   "cell_type": "code",
   "execution_count": 82,
   "metadata": {},
   "outputs": [
    {
     "data": {
      "text/plain": [
       "0.7962019453450672"
      ]
     },
     "execution_count": 82,
     "metadata": {},
     "output_type": "execute_result"
    }
   ],
   "source": [
    "# quero descobrir o peso da quantidade de pedidos que contém de 1 até 10 unidades no total dos pedidos no ano de 2020.\n",
    "pedidos_grupo.query('quantidade <= 10').value_counts().sum() / vendas['n°_do_pedido'].nunique()"
   ]
  },
  {
   "cell_type": "markdown",
   "metadata": {},
   "source": [
    "> O pedidos com 2 unidades são a maioria, com 340 pedidos, bem como os com 1 unidade, 320 no total. Nota-se que os pedidos estão em sua grande maioria em até 10 unidades."
   ]
  },
  {
   "cell_type": "markdown",
   "metadata": {},
   "source": [
    "## Quais tipo de patches estoque venderam mais? Qual combinação apareceram mais vezes?"
   ]
  },
  {
   "cell_type": "markdown",
   "metadata": {},
   "source": [
    "### Verificando os patches de estoque"
   ]
  },
  {
   "cell_type": "code",
   "execution_count": 45,
   "metadata": {},
   "outputs": [
    {
     "data": {
      "text/html": [
       "<div>\n",
       "<style scoped>\n",
       "    .dataframe tbody tr th:only-of-type {\n",
       "        vertical-align: middle;\n",
       "    }\n",
       "\n",
       "    .dataframe tbody tr th {\n",
       "        vertical-align: top;\n",
       "    }\n",
       "\n",
       "    .dataframe thead th {\n",
       "        text-align: right;\n",
       "    }\n",
       "</style>\n",
       "<table border=\"1\" class=\"dataframe\">\n",
       "  <thead>\n",
       "    <tr style=\"text-align: right;\">\n",
       "      <th></th>\n",
       "      <th>n°_do_pedido</th>\n",
       "      <th>data</th>\n",
       "      <th>nome_do_contato</th>\n",
       "      <th>cpf_cnpj</th>\n",
       "      <th>estado</th>\n",
       "      <th>município</th>\n",
       "      <th>código_do_produto</th>\n",
       "      <th>descrição</th>\n",
       "      <th>quantidade</th>\n",
       "      <th>preço_total</th>\n",
       "      <th>mes</th>\n",
       "      <th>dia</th>\n",
       "      <th>tipo_cliente</th>\n",
       "    </tr>\n",
       "  </thead>\n",
       "  <tbody>\n",
       "    <tr>\n",
       "      <th>0</th>\n",
       "      <td>410</td>\n",
       "      <td>2020-01-01</td>\n",
       "      <td>Matheus Oliveira Lima</td>\n",
       "      <td>139.408.067-06</td>\n",
       "      <td>RJ</td>\n",
       "      <td>Rio de Janeiro</td>\n",
       "      <td>EP1524</td>\n",
       "      <td>Patch Emborrachado Bandeira do Brasil</td>\n",
       "      <td>2</td>\n",
       "      <td>42.98</td>\n",
       "      <td>1</td>\n",
       "      <td>1</td>\n",
       "      <td>pessoa_física</td>\n",
       "    </tr>\n",
       "    <tr>\n",
       "      <th>2</th>\n",
       "      <td>412</td>\n",
       "      <td>2020-01-01</td>\n",
       "      <td>Luciano Tavares</td>\n",
       "      <td>382.420.019-87</td>\n",
       "      <td>SC</td>\n",
       "      <td>Joinville</td>\n",
       "      <td>EP192</td>\n",
       "      <td>Patch Bordado Brazilian Veteran | Veterano bra...</td>\n",
       "      <td>1</td>\n",
       "      <td>15.49</td>\n",
       "      <td>1</td>\n",
       "      <td>1</td>\n",
       "      <td>pessoa_física</td>\n",
       "    </tr>\n",
       "    <tr>\n",
       "      <th>3</th>\n",
       "      <td>413</td>\n",
       "      <td>2020-01-02</td>\n",
       "      <td>Lucas Skrock</td>\n",
       "      <td>094.709.099-17</td>\n",
       "      <td>PR</td>\n",
       "      <td>Curitiba</td>\n",
       "      <td>EP887</td>\n",
       "      <td>Patch bordado MAD MAX - I Witness Me</td>\n",
       "      <td>1</td>\n",
       "      <td>13.49</td>\n",
       "      <td>1</td>\n",
       "      <td>2</td>\n",
       "      <td>pessoa_física</td>\n",
       "    </tr>\n",
       "    <tr>\n",
       "      <th>4</th>\n",
       "      <td>413</td>\n",
       "      <td>2020-01-02</td>\n",
       "      <td>Lucas Skrock</td>\n",
       "      <td>094.709.099-17</td>\n",
       "      <td>PR</td>\n",
       "      <td>Curitiba</td>\n",
       "      <td>EP619</td>\n",
       "      <td>Patch Bordado Stars (Resident Evil)</td>\n",
       "      <td>1</td>\n",
       "      <td>13.49</td>\n",
       "      <td>1</td>\n",
       "      <td>2</td>\n",
       "      <td>pessoa_física</td>\n",
       "    </tr>\n",
       "    <tr>\n",
       "      <th>5</th>\n",
       "      <td>413</td>\n",
       "      <td>2020-01-02</td>\n",
       "      <td>Lucas Skrock</td>\n",
       "      <td>094.709.099-17</td>\n",
       "      <td>PR</td>\n",
       "      <td>Curitiba</td>\n",
       "      <td>EP955</td>\n",
       "      <td>Patch Bordado Wolf Witcher Gerald</td>\n",
       "      <td>1</td>\n",
       "      <td>13.49</td>\n",
       "      <td>1</td>\n",
       "      <td>2</td>\n",
       "      <td>pessoa_física</td>\n",
       "    </tr>\n",
       "  </tbody>\n",
       "</table>\n",
       "</div>"
      ],
      "text/plain": [
       "   n°_do_pedido       data        nome_do_contato        cpf_cnpj estado  \\\n",
       "0           410 2020-01-01  Matheus Oliveira Lima  139.408.067-06     RJ   \n",
       "2           412 2020-01-01        Luciano Tavares  382.420.019-87     SC   \n",
       "3           413 2020-01-02           Lucas Skrock  094.709.099-17     PR   \n",
       "4           413 2020-01-02           Lucas Skrock  094.709.099-17     PR   \n",
       "5           413 2020-01-02           Lucas Skrock  094.709.099-17     PR   \n",
       "\n",
       "        município código_do_produto  \\\n",
       "0  Rio de Janeiro            EP1524   \n",
       "2       Joinville             EP192   \n",
       "3        Curitiba             EP887   \n",
       "4        Curitiba             EP619   \n",
       "5        Curitiba             EP955   \n",
       "\n",
       "                                           descrição  quantidade  preço_total  \\\n",
       "0              Patch Emborrachado Bandeira do Brasil           2        42.98   \n",
       "2  Patch Bordado Brazilian Veteran | Veterano bra...           1        15.49   \n",
       "3               Patch bordado MAD MAX - I Witness Me           1        13.49   \n",
       "4                Patch Bordado Stars (Resident Evil)           1        13.49   \n",
       "5                  Patch Bordado Wolf Witcher Gerald           1        13.49   \n",
       "\n",
       "   mes  dia   tipo_cliente  \n",
       "0    1    1  pessoa_física  \n",
       "2    1    1  pessoa_física  \n",
       "3    1    2  pessoa_física  \n",
       "4    1    2  pessoa_física  \n",
       "5    1    2  pessoa_física  "
      ]
     },
     "execution_count": 45,
     "metadata": {},
     "output_type": "execute_result"
    }
   ],
   "source": [
    "# criando um data frame somente com os produtos de artes prontas\n",
    "estoque = vendas.loc[~vendas['descrição'].str.contains('Personalizado', na=False)]\n",
    "estoque_final = estoque.loc[~estoque['descrição'].str.contains('Digital', na=False)]\n",
    "estoque_final_um = estoque_final.loc[~estoque['descrição'].str.contains('personalizado', na=False)]\n",
    "estoque_final_dois = estoque_final_um.loc[~estoque['descrição'].str.contains('digital', na=False)]\n",
    "\n",
    "estoque_final_dois.head()"
   ]
  },
  {
   "cell_type": "markdown",
   "metadata": {},
   "source": [
    "> Nessa seção a ideia é limpar ao máximo tipos de patches que possam influenciar a análise dos patches de estoques e artes prontas. Dessa forma, retirei patches personalizados, que são patches com artes criadas e sugeridas pelos clientes. Patches digitais de estoque são muitos poucos no portfólio com impacto muito pequeno. "
   ]
  },
  {
   "cell_type": "code",
   "execution_count": 46,
   "metadata": {},
   "outputs": [
    {
     "data": {
      "text/plain": [
       "10002"
      ]
     },
     "execution_count": 46,
     "metadata": {},
     "output_type": "execute_result"
    }
   ],
   "source": [
    "# calculando a quantidade de patches vendidos desse dataset criado\n",
    "estoque_final_dois['quantidade'].sum()"
   ]
  },
  {
   "cell_type": "code",
   "execution_count": 47,
   "metadata": {},
   "outputs": [
    {
     "data": {
      "text/plain": [
       "1512"
      ]
     },
     "execution_count": 47,
     "metadata": {},
     "output_type": "execute_result"
    }
   ],
   "source": [
    "estoque_final_dois['n°_do_pedido'].nunique()"
   ]
  },
  {
   "cell_type": "code",
   "execution_count": 48,
   "metadata": {},
   "outputs": [
    {
     "data": {
      "text/html": [
       "<div>\n",
       "<style scoped>\n",
       "    .dataframe tbody tr th:only-of-type {\n",
       "        vertical-align: middle;\n",
       "    }\n",
       "\n",
       "    .dataframe tbody tr th {\n",
       "        vertical-align: top;\n",
       "    }\n",
       "\n",
       "    .dataframe thead th {\n",
       "        text-align: right;\n",
       "    }\n",
       "</style>\n",
       "<table border=\"1\" class=\"dataframe\">\n",
       "  <thead>\n",
       "    <tr style=\"text-align: right;\">\n",
       "      <th></th>\n",
       "      <th>n°_do_pedido</th>\n",
       "      <th>quantidade</th>\n",
       "    </tr>\n",
       "    <tr>\n",
       "      <th>descrição</th>\n",
       "      <th></th>\n",
       "      <th></th>\n",
       "    </tr>\n",
       "  </thead>\n",
       "  <tbody>\n",
       "    <tr>\n",
       "      <th>Patch Bordado Bandeira Do Brasil Tática</th>\n",
       "      <td>195</td>\n",
       "      <td>350</td>\n",
       "    </tr>\n",
       "    <tr>\n",
       "      <th>Patch Emborrachado Bandeira do Brasil COLORIDA</th>\n",
       "      <td>69</td>\n",
       "      <td>263</td>\n",
       "    </tr>\n",
       "    <tr>\n",
       "      <th>Patch Bordado FEB (Força Expedicionária do brasil) WW2</th>\n",
       "      <td>68</td>\n",
       "      <td>92</td>\n",
       "    </tr>\n",
       "    <tr>\n",
       "      <th>Patch Bordado Função Assault</th>\n",
       "      <td>64</td>\n",
       "      <td>131</td>\n",
       "    </tr>\n",
       "    <tr>\n",
       "      <th>Patch Bordado Tipo Sanguíneo</th>\n",
       "      <td>48</td>\n",
       "      <td>67</td>\n",
       "    </tr>\n",
       "    <tr>\n",
       "      <th>Patch Emborrachado Punisher</th>\n",
       "      <td>48</td>\n",
       "      <td>107</td>\n",
       "    </tr>\n",
       "    <tr>\n",
       "      <th>Patch Bordado (Manicaca) Assault</th>\n",
       "      <td>47</td>\n",
       "      <td>60</td>\n",
       "    </tr>\n",
       "    <tr>\n",
       "      <th>Patch Bordado Bandeira São Paulo</th>\n",
       "      <td>46</td>\n",
       "      <td>91</td>\n",
       "    </tr>\n",
       "    <tr>\n",
       "      <th>Patch Emborrachado Tipo Sanguíneo Preto</th>\n",
       "      <td>46</td>\n",
       "      <td>72</td>\n",
       "    </tr>\n",
       "    <tr>\n",
       "      <th>Patch Emborrachado Cruz Vermelha - Médico</th>\n",
       "      <td>46</td>\n",
       "      <td>135</td>\n",
       "    </tr>\n",
       "    <tr>\n",
       "      <th>Patch Bordado Spartan - Molon Labe</th>\n",
       "      <td>43</td>\n",
       "      <td>56</td>\n",
       "    </tr>\n",
       "    <tr>\n",
       "      <th>Patch Bordado Dont Tread On Me (Não Pise em Mim)</th>\n",
       "      <td>40</td>\n",
       "      <td>47</td>\n",
       "    </tr>\n",
       "    <tr>\n",
       "      <th>Patch Bordado Senta a Púa - FEB</th>\n",
       "      <td>39</td>\n",
       "      <td>42</td>\n",
       "    </tr>\n",
       "    <tr>\n",
       "      <th>Patch Bordado Bandeira EUA Tática</th>\n",
       "      <td>36</td>\n",
       "      <td>48</td>\n",
       "    </tr>\n",
       "    <tr>\n",
       "      <th>Patch Bordado Brazilian Veteran | Veterano brasileiro</th>\n",
       "      <td>36</td>\n",
       "      <td>64</td>\n",
       "    </tr>\n",
       "  </tbody>\n",
       "</table>\n",
       "</div>"
      ],
      "text/plain": [
       "                                                    n°_do_pedido  quantidade\n",
       "descrição                                                                   \n",
       "Patch Bordado Bandeira Do Brasil Tática                      195         350\n",
       "Patch Emborrachado Bandeira do Brasil COLORIDA                69         263\n",
       "Patch Bordado FEB (Força Expedicionária do bras...            68          92\n",
       "Patch Bordado Função Assault                                  64         131\n",
       "Patch Bordado Tipo Sanguíneo                                  48          67\n",
       "Patch Emborrachado Punisher                                   48         107\n",
       "Patch Bordado (Manicaca) Assault                              47          60\n",
       "Patch Bordado Bandeira São Paulo                              46          91\n",
       "Patch Emborrachado Tipo Sanguíneo Preto                       46          72\n",
       "Patch Emborrachado Cruz Vermelha - Médico                     46         135\n",
       "Patch Bordado Spartan - Molon Labe                            43          56\n",
       "Patch Bordado Dont Tread On Me (Não Pise em Mim)              40          47\n",
       "Patch Bordado Senta a Púa - FEB                               39          42\n",
       "Patch Bordado Bandeira EUA Tática                             36          48\n",
       "Patch Bordado Brazilian Veteran | Veterano bras...            36          64"
      ]
     },
     "execution_count": 48,
     "metadata": {},
     "output_type": "execute_result"
    }
   ],
   "source": [
    "# agrupando os patches mais vendidos pelo quantidade de pedidos e quantidade vendidas\n",
    "estoque_final_tres = estoque_final_dois.groupby('descrição').agg({'n°_do_pedido': 'nunique',\n",
    "                                  'quantidade': 'sum'}).sort_values(by='n°_do_pedido', ascending=False).head(15)\n",
    "# como sei que o portfólio é muito grande de artes de estoque, resumi pelos 15 nomes de patches que mais aparecem\n",
    "\n",
    "estoque_final_tres"
   ]
  },
  {
   "cell_type": "code",
   "execution_count": 49,
   "metadata": {},
   "outputs": [
    {
     "data": {
      "image/png": "[encoded data removed]",
      "text/plain": [
       "<Figure size 432x288 with 1 Axes>"
      ]
     },
     "metadata": {
      "needs_background": "light"
     },
     "output_type": "display_data"
    }
   ],
   "source": [
    "# plotei um gráfico de barras horizontais para melhor vizualizar a quantidade e nr. de pedidos desses patches\n",
    "estoque_final_tres['quantidade'].plot(kind='barh', alpha=0.4, color='black', width=0.7)\n",
    "estoque_final_tres['n°_do_pedido'].plot(kind='barh', alpha=0.4, color='blue', width=0.7)\n",
    "plt.title('Quantidade Pedidos vs quantidades unitária')\n",
    "plt.legend()\n",
    "plt.xlabel('Unidades de patches')\n",
    "plt.ylabel('Patch')\n",
    "plt.show();"
   ]
  },
  {
   "cell_type": "markdown",
   "metadata": {},
   "source": [
    "> Conforme o gráfico acima, podemos dizer que o 'Patch Bordado Bandeira Do Brasil Tática' foi o campeão em quantidade e nr de pedidos no qual aparecem, ressaltando que são patches de estoque e artes prontas. Vale destacar também o patch 'Patch Emborrachado Bandeira do Brasil COLORIDA' com quantidade expressiva de ambos os indicadores. Nesse tópico resolvi não incluir receitas porque preço unitário é o mesmo para todos, até o presente momento. Com base nesse gráfico o que a empresa pode fazer é se antecipar a demanda e produzir estoque desses modelos para encurtar o prazo de entrega e medir esses indicadores no futuro."
   ]
  },
  {
   "cell_type": "markdown",
   "metadata": {},
   "source": [
    "### Verificando as combinações que mais venderam juntos"
   ]
  },
  {
   "cell_type": "code",
   "execution_count": 50,
   "metadata": {},
   "outputs": [
    {
     "name": "stderr",
     "output_type": "stream",
     "text": [
      "C:\\Users\\jeffe\\Anaconda3\\lib\\site-packages\\ipykernel_launcher.py:3: SettingWithCopyWarning: \n",
      "A value is trying to be set on a copy of a slice from a DataFrame.\n",
      "Try using .loc[row_indexer,col_indexer] = value instead\n",
      "\n",
      "See the caveats in the documentation: https://pandas.pydata.org/pandas-docs/stable/user_guide/indexing.html#returning-a-view-versus-a-copy\n",
      "  This is separate from the ipykernel package so we can avoid doing imports until\n"
     ]
    },
    {
     "data": {
      "text/html": [
       "<div>\n",
       "<style scoped>\n",
       "    .dataframe tbody tr th:only-of-type {\n",
       "        vertical-align: middle;\n",
       "    }\n",
       "\n",
       "    .dataframe tbody tr th {\n",
       "        vertical-align: top;\n",
       "    }\n",
       "\n",
       "    .dataframe thead th {\n",
       "        text-align: right;\n",
       "    }\n",
       "</style>\n",
       "<table border=\"1\" class=\"dataframe\">\n",
       "  <thead>\n",
       "    <tr style=\"text-align: right;\">\n",
       "      <th></th>\n",
       "      <th>n°_do_pedido</th>\n",
       "      <th>grupo</th>\n",
       "    </tr>\n",
       "  </thead>\n",
       "  <tbody>\n",
       "    <tr>\n",
       "      <th>0</th>\n",
       "      <td>410</td>\n",
       "      <td>Patch Emborrachado Bandeira do Brasil</td>\n",
       "    </tr>\n",
       "    <tr>\n",
       "      <th>2</th>\n",
       "      <td>412</td>\n",
       "      <td>Patch Bordado Brazilian Veteran | Veterano bra...</td>\n",
       "    </tr>\n",
       "    <tr>\n",
       "      <th>3</th>\n",
       "      <td>413</td>\n",
       "      <td>Patch bordado MAD MAX - I Witness Me,Patch Bor...</td>\n",
       "    </tr>\n",
       "    <tr>\n",
       "      <th>7</th>\n",
       "      <td>414</td>\n",
       "      <td>Patch Bordado Cartel Santa Blanca</td>\n",
       "    </tr>\n",
       "    <tr>\n",
       "      <th>9</th>\n",
       "      <td>415</td>\n",
       "      <td>Patch bordado Bandeira Japão</td>\n",
       "    </tr>\n",
       "  </tbody>\n",
       "</table>\n",
       "</div>"
      ],
      "text/plain": [
       "   n°_do_pedido                                              grupo\n",
       "0           410              Patch Emborrachado Bandeira do Brasil\n",
       "2           412  Patch Bordado Brazilian Veteran | Veterano bra...\n",
       "3           413  Patch bordado MAD MAX - I Witness Me,Patch Bor...\n",
       "7           414                  Patch Bordado Cartel Santa Blanca\n",
       "9           415                       Patch bordado Bandeira Japão"
      ]
     },
     "execution_count": 50,
     "metadata": {},
     "output_type": "execute_result"
    }
   ],
   "source": [
    "# aqui criei uma coluna no mesmo dataset da seção anterior para colocar todos os produtos em uma só linha de cada pedido\n",
    "# nesse caso estou mudando a estrutura do dataset somente para responder a segunda pergunta do tópico\n",
    "estoque_final_dois['grupo'] = estoque_final_dois.groupby('n°_do_pedido')['descrição'].transform(lambda x: ','.join(x))\n",
    "estoque_final_quatro = estoque_final_dois[['n°_do_pedido', 'grupo']].drop_duplicates()\n",
    "estoque_final_quatro.head()"
   ]
  },
  {
   "cell_type": "code",
   "execution_count": 63,
   "metadata": {},
   "outputs": [
    {
     "name": "stdout",
     "output_type": "stream",
     "text": [
      "('Patch Bordado Função Assault', 'Patch Bordado Função Forças Especiais\\xa0', 'Patch Bordado Função Forças Especiais\\xa0', 'Patch Bordado Bandeira Do Brasil Tática', 'Patch Bordado Bandeira São Paulo') 288\n",
      "('Patch Bordado Função Assault', 'Patch Bordado Função Forças Especiais\\xa0', 'Patch Bordado Bandeira Do Brasil Tática', 'Patch Bordado Bandeira Do Brasil Tática', 'Patch Bordado Bandeira São Paulo') 288\n",
      "('Patch Bordado Função Assault', 'Patch Bordado Função Forças Especiais\\xa0', 'Patch Bordado Bandeira Do Brasil Tática', 'Patch Bordado Bandeira São Paulo', 'Patch Bordado Bandeira São Paulo') 288\n",
      "('Patch Bordado A Cobra Fumou-FEB', 'Patch Bordado Função Assault', 'Patch Bordado Função Forças Especiais\\xa0', 'Patch Bordado Bandeira Do Brasil Tática', 'Patch Bordado Bandeira São Paulo') 192\n",
      "('Patch Bordado Armeiro', 'Patch Bordado Função Assault', 'Patch Bordado Função Forças Especiais\\xa0', 'Patch Bordado Bandeira Do Brasil Tática', 'Patch Bordado Bandeira São Paulo') 192\n",
      "('Patch Bordado Brasão Exercito Brasileiro', 'Patch Bordado Função Assault', 'Patch Bordado Função Forças Especiais\\xa0', 'Patch Bordado Bandeira Do Brasil Tática', 'Patch Bordado Bandeira São Paulo') 192\n",
      "('Patch Bordado Função Assault', 'Patch Bordado Função Assault', 'Patch Bordado Função Forças Especiais\\xa0', 'Patch Bordado Bandeira Do Brasil Tática', 'Patch Bordado Bandeira São Paulo') 192\n",
      "('Patch Bordado Função Assault', 'Patch Bordado Função Forças Especiais\\xa0', 'Patch Bordado Girls Just Wanna Have Guns', 'Patch Bordado Bandeira Do Brasil Tática', 'Patch Bordado Bandeira São Paulo') 192\n",
      "('Patch Bordado Função Assault', 'Patch Bordado Função Forças Especiais\\xa0', 'Patch Bordado Love', 'Patch Bordado Bandeira Do Brasil Tática', 'Patch Bordado Bandeira São Paulo') 192\n",
      "('Patch Bordado Função Assault', 'Patch Bordado Função Forças Especiais\\xa0', 'Patch Bordado Tactical Girl', 'Patch Bordado Bandeira Do Brasil Tática', 'Patch Bordado Bandeira São Paulo') 192\n"
     ]
    }
   ],
   "source": [
    "# aqui pretendo descbrir quais os melhores pares de patches vendidos juntos\n",
    "# achei um vídeo incrível que aborda os pacotes Counter e combinations\n",
    "# aqui o vídeo no qual descobri os pacotes e resolvi o problema, https://www.youtube.com/watch?v=eMOA1pPVUc4&t=2678s\n",
    "from itertools import combinations\n",
    "from collections import Counter\n",
    "\n",
    "count = Counter() # criando a variável count com o 'Counter() do pacote 'collections'\n",
    "\n",
    "for row in estoque_final_quatro['grupo']: # percorrendo cada linha da variável 'grupo'.\n",
    "    row_list = row.split(',') # separando pela vírgula, ou seja, por produto.\n",
    "    count.update(Counter(combinations(row_list, 5))) # fazendo a contagem e depois a combinação da variável\n",
    "    # 'row_list' de cinco produtos (5).\n",
    "\n",
    "for key, value in count.most_common(10): # percorrendo cada linha e trazendo os 10 maiores.\n",
    "    print(key, value) # mostrando 'chave' e 'valor' ou 'nome do produto' e 'quantidade de pedidos'"
   ]
  },
  {
   "cell_type": "markdown",
   "metadata": {},
   "source": [
    "> Para responder as perguntas desse tópico precisei mudar a estrutura do dataset original e excluir dois tipos de patches vendidos, os personalizados e digitais. Assim criei um grupo dos produtos vendidos e os coloquei na mesma linha, dessa forma consegui filtrar por pedido. Com os pacotes 'combinatios' e 'Counter' consegui responder a pergunta de uma forma clara e relevante. Na lista acima aparecem o conjunto de cinco patches que mais aparecem nos pedidos, com base no dataset modificado em que aparecem somente patches de artes prontas."
   ]
  },
  {
   "cell_type": "markdown",
   "metadata": {},
   "source": [
    "## Conclusão"
   ]
  },
  {
   "cell_type": "markdown",
   "metadata": {},
   "source": [
    "No referido trabalho tentei responder as principais questões abordadas do que ocorreu no ano de 2020 em uma empresa de confecção de patches.\n",
    "\n",
    "Na primeira parte do projeto fiz a limpeza e transformação dos dados disponíveis, excluindo valores nulos, verificando valores duplicados e criando as colunas mês e dia, no qual seriam necessários para responder algumas perguntas do projeto.\n",
    "\n",
    "Analisando os dados consegui identificar o faturamento de todos os meses do ano, bem como fazer um comparativo de cada um, sendo Outubro o mês com maior faturamento, bem como a tendência de faturamento no ano. Os dias do mês no qual se vende mais, também foi respondido, os estados que mais compraram durante o ano, de fato São Paulo foi o que mais comprou.\n",
    "\n",
    "O tipo de cliente também foi analisado, sendo o impacto dos clientes pessoa física maior do que pessoa jurídica, embora esse último tenha um tícket médio bem maior.\n",
    "\n",
    "A empresa possui muitos pedidos que contém 1 unidade, isso refletiu 69% dos pedidos no ano, me parece um número bastante alto depedendo da estratégia da empresa talvez não seja eficiente.\n",
    "\n",
    "Por último era necessário responder qual foi a performance de patches de artes prontas, isto que o negócio principal da empresa são de ates personalizadas. O 'patch bordado bandeira do brasil tática', foi o que mais vendeu e o que mais apareceu nos pedidos. Tive que responder qual seriam a combinação dos 5 patches que mais apareceram nos pedidos, no qual tive que buscar outros pacotes para respondê-lo."
   ]
  },
  {
   "cell_type": "markdown",
   "metadata": {},
   "source": [
    "## Limitações"
   ]
  },
  {
   "cell_type": "markdown",
   "metadata": {},
   "source": [
    "Durante todo o processo de análise tive poucas limitações para responder as perguntas do projeto. A principal, acredito, a maneira como foram lançados os nomes dos produtos. Não há um padrão na descrição, logo os códigos dos produtos também não.\n",
    "\n",
    "Os produtos não estão lançados por grupos ou tipos, acredito que isso poderia melhorar as análises e perguntas do projeto. As descrições estavam bastante 'sujas', principalmente os produtos ditos 'personalizados'."
   ]
  },
  {
   "cell_type": "markdown",
   "metadata": {},
   "source": [
    "## Verificando quantidades vs pedidos"
   ]
  },
  {
   "cell_type": "markdown",
   "metadata": {},
   "source": [
    "#### Artes prontas"
   ]
  },
  {
   "cell_type": "code",
   "execution_count": 64,
   "metadata": {},
   "outputs": [
    {
     "data": {
      "text/html": [
       "<div>\n",
       "<style scoped>\n",
       "    .dataframe tbody tr th:only-of-type {\n",
       "        vertical-align: middle;\n",
       "    }\n",
       "\n",
       "    .dataframe tbody tr th {\n",
       "        vertical-align: top;\n",
       "    }\n",
       "\n",
       "    .dataframe thead th {\n",
       "        text-align: right;\n",
       "    }\n",
       "</style>\n",
       "<table border=\"1\" class=\"dataframe\">\n",
       "  <thead>\n",
       "    <tr style=\"text-align: right;\">\n",
       "      <th></th>\n",
       "      <th>n°_do_pedido</th>\n",
       "      <th>data</th>\n",
       "      <th>nome_do_contato</th>\n",
       "      <th>cpf_cnpj</th>\n",
       "      <th>estado</th>\n",
       "      <th>município</th>\n",
       "      <th>código_do_produto</th>\n",
       "      <th>descrição</th>\n",
       "      <th>quantidade</th>\n",
       "      <th>preço_total</th>\n",
       "      <th>mes</th>\n",
       "      <th>dia</th>\n",
       "      <th>tipo_cliente</th>\n",
       "      <th>grupo</th>\n",
       "    </tr>\n",
       "  </thead>\n",
       "  <tbody>\n",
       "    <tr>\n",
       "      <th>0</th>\n",
       "      <td>410</td>\n",
       "      <td>2020-01-01</td>\n",
       "      <td>Matheus Oliveira Lima</td>\n",
       "      <td>139.408.067-06</td>\n",
       "      <td>RJ</td>\n",
       "      <td>Rio de Janeiro</td>\n",
       "      <td>EP1524</td>\n",
       "      <td>Patch Emborrachado Bandeira do Brasil</td>\n",
       "      <td>2</td>\n",
       "      <td>42.98</td>\n",
       "      <td>1</td>\n",
       "      <td>1</td>\n",
       "      <td>pessoa_física</td>\n",
       "      <td>Patch Emborrachado Bandeira do Brasil</td>\n",
       "    </tr>\n",
       "  </tbody>\n",
       "</table>\n",
       "</div>"
      ],
      "text/plain": [
       "   n°_do_pedido       data        nome_do_contato        cpf_cnpj estado  \\\n",
       "0           410 2020-01-01  Matheus Oliveira Lima  139.408.067-06     RJ   \n",
       "\n",
       "        município código_do_produto                              descrição  \\\n",
       "0  Rio de Janeiro            EP1524  Patch Emborrachado Bandeira do Brasil   \n",
       "\n",
       "   quantidade  preço_total  mes  dia   tipo_cliente  \\\n",
       "0           2        42.98    1    1  pessoa_física   \n",
       "\n",
       "                                   grupo  \n",
       "0  Patch Emborrachado Bandeira do Brasil  "
      ]
     },
     "execution_count": 64,
     "metadata": {},
     "output_type": "execute_result"
    }
   ],
   "source": [
    "estoque_final_dois.head(1)"
   ]
  },
  {
   "cell_type": "code",
   "execution_count": 52,
   "metadata": {},
   "outputs": [
    {
     "data": {
      "text/html": [
       "<div>\n",
       "<style scoped>\n",
       "    .dataframe tbody tr th:only-of-type {\n",
       "        vertical-align: middle;\n",
       "    }\n",
       "\n",
       "    .dataframe tbody tr th {\n",
       "        vertical-align: top;\n",
       "    }\n",
       "\n",
       "    .dataframe thead th {\n",
       "        text-align: right;\n",
       "    }\n",
       "</style>\n",
       "<table border=\"1\" class=\"dataframe\">\n",
       "  <thead>\n",
       "    <tr style=\"text-align: right;\">\n",
       "      <th></th>\n",
       "      <th></th>\n",
       "      <th>quantidade</th>\n",
       "      <th>preço_total</th>\n",
       "    </tr>\n",
       "    <tr>\n",
       "      <th>grupo</th>\n",
       "      <th>n°_do_pedido</th>\n",
       "      <th></th>\n",
       "      <th></th>\n",
       "    </tr>\n",
       "  </thead>\n",
       "  <tbody>\n",
       "    <tr>\n",
       "      <th>Patch Bordado Jurassic Park</th>\n",
       "      <th>1142</th>\n",
       "      <td>1</td>\n",
       "      <td>12.79</td>\n",
       "    </tr>\n",
       "    <tr>\n",
       "      <th>Patch Bordado HellFish</th>\n",
       "      <th>2586</th>\n",
       "      <td>1</td>\n",
       "      <td>9.00</td>\n",
       "    </tr>\n",
       "    <tr>\n",
       "      <th rowspan=\"2\" valign=\"top\">Patch Bordado Para Colete Instrutor</th>\n",
       "      <th>2479</th>\n",
       "      <td>1</td>\n",
       "      <td>27.00</td>\n",
       "    </tr>\n",
       "    <tr>\n",
       "      <th>930</th>\n",
       "      <td>1</td>\n",
       "      <td>20.00</td>\n",
       "    </tr>\n",
       "    <tr>\n",
       "      <th>Patch Emborrachado Bandeira do Brasil NEGATIVA</th>\n",
       "      <th>1389</th>\n",
       "      <td>1</td>\n",
       "      <td>21.49</td>\n",
       "    </tr>\n",
       "  </tbody>\n",
       "</table>\n",
       "</div>"
      ],
      "text/plain": [
       "                                                             quantidade  \\\n",
       "grupo                                          n°_do_pedido               \n",
       "Patch Bordado Jurassic Park                    1142                   1   \n",
       "Patch Bordado HellFish                         2586                   1   \n",
       "Patch Bordado Para Colete Instrutor            2479                   1   \n",
       "                                               930                    1   \n",
       "Patch Emborrachado Bandeira do Brasil NEGATIVA 1389                   1   \n",
       "\n",
       "                                                             preço_total  \n",
       "grupo                                          n°_do_pedido               \n",
       "Patch Bordado Jurassic Park                    1142                12.79  \n",
       "Patch Bordado HellFish                         2586                 9.00  \n",
       "Patch Bordado Para Colete Instrutor            2479                27.00  \n",
       "                                               930                 20.00  \n",
       "Patch Emborrachado Bandeira do Brasil NEGATIVA 1389                21.49  "
      ]
     },
     "execution_count": 52,
     "metadata": {},
     "output_type": "execute_result"
    }
   ],
   "source": [
    "# dataset com os pedidos de artes prontas\n",
    "pedidos = estoque_final_dois.groupby(['grupo', 'n°_do_pedido']).agg({'quantidade': 'sum',\n",
    "                                           'preço_total': 'sum'}).sort_values(by='quantidade')\n",
    "pedidos.head()"
   ]
  },
  {
   "cell_type": "code",
   "execution_count": 53,
   "metadata": {},
   "outputs": [
    {
     "data": {
      "text/plain": [
       "False    1204\n",
       "True      308\n",
       "Name: quantidade, dtype: int64"
      ]
     },
     "execution_count": 53,
     "metadata": {},
     "output_type": "execute_result"
    }
   ],
   "source": [
    "(pedidos['quantidade'] == 1).value_counts()\n",
    "# 308 pedidos com 1 unidade"
   ]
  },
  {
   "cell_type": "code",
   "execution_count": 54,
   "metadata": {},
   "outputs": [
    {
     "data": {
      "text/plain": [
       "False    1383\n",
       "True      129\n",
       "Name: quantidade, dtype: int64"
      ]
     },
     "execution_count": 54,
     "metadata": {},
     "output_type": "execute_result"
    }
   ],
   "source": [
    "(pedidos['quantidade'] == 5).value_counts()\n",
    "# 129 pedidos com 5 unidades"
   ]
  },
  {
   "cell_type": "code",
   "execution_count": 55,
   "metadata": {},
   "outputs": [
    {
     "data": {
      "text/plain": [
       "1      308\n",
       "2      283\n",
       "3      221\n",
       "4      166\n",
       "5      129\n",
       "6      102\n",
       "7       95\n",
       "8       28\n",
       "10      27\n",
       "9       21\n",
       "11      17\n",
       "20       9\n",
       "12       9\n",
       "15       8\n",
       "30       8\n",
       "13       7\n",
       "14       7\n",
       "25       5\n",
       "40       5\n",
       "50       5\n",
       "60       5\n",
       "19       4\n",
       "18       3\n",
       "16       3\n",
       "17       3\n",
       "22       3\n",
       "100      3\n",
       "160      3\n",
       "21       2\n",
       "32       2\n",
       "33       2\n",
       "81       1\n",
       "117      1\n",
       "153      1\n",
       "180      1\n",
       "90       1\n",
       "185      1\n",
       "235      1\n",
       "86       1\n",
       "53       1\n",
       "77       1\n",
       "65       1\n",
       "24       1\n",
       "245      1\n",
       "34       1\n",
       "36       1\n",
       "45       1\n",
       "46       1\n",
       "48       1\n",
       "250      1\n",
       "Name: quantidade, dtype: int64"
      ]
     },
     "execution_count": 55,
     "metadata": {},
     "output_type": "execute_result"
    }
   ],
   "source": [
    "# quantidade de pedidos versus quantidade de unidades\n",
    "# confirmando os cálculos anteriores\n",
    "(pedidos['quantidade']).value_counts()"
   ]
  }
 ],
 "metadata": {
  "kernelspec": {
   "display_name": "Python 3",
   "language": "python",
   "name": "python3"
  },
  "language_info": {
   "codemirror_mode": {
    "name": "ipython",
    "version": 3
   },
   "file_extension": ".py",
   "mimetype": "text/x-python",
   "name": "python",
   "nbconvert_exporter": "python",
   "pygments_lexer": "ipython3",
   "version": "3.6.12"
  }
 },
 "nbformat": 4,
 "nbformat_minor": 2
}
